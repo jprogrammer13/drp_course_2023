{
 "cells": [
  {
   "cell_type": "code",
   "execution_count": 245,
   "metadata": {},
   "outputs": [],
   "source": [
    "import pandas as pd\n",
    "import numpy as np\n",
    "import matplotlib.pyplot as plt\n",
    "from sklearn.metrics import r2_score\n",
    "from scipy.linalg import block_diag"
   ]
  },
  {
   "cell_type": "code",
   "execution_count": null,
   "metadata": {},
   "outputs": [],
   "source": [
    "# friction map:  [[0.09041 0.1     0.09041]\n",
    "#                 [0.1     0.09041 0.09041]\n",
    "#                 [0.1     0.1568  0.1    ]]"
   ]
  },
  {
   "cell_type": "code",
   "execution_count": 246,
   "metadata": {},
   "outputs": [],
   "source": [
    "plt.close(\"all\")"
   ]
  },
  {
   "cell_type": "code",
   "execution_count": 247,
   "metadata": {},
   "outputs": [],
   "source": [
    "data = \"../data/robot_data.csv\"\n"
   ]
  },
  {
   "cell_type": "code",
   "execution_count": 248,
   "metadata": {},
   "outputs": [],
   "source": [
    "df = pd.read_csv(data, index_col=0)"
   ]
  },
  {
   "cell_type": "code",
   "execution_count": 311,
   "metadata": {},
   "outputs": [],
   "source": [
    "fig, ax = plt.subplots(1, 5, figsize=(20, 4))\n",
    "ax[0].hist(df.wheel_l)\n",
    "ax[0].set_title('wheel_l')\n",
    "ax[1].hist(df.wheel_r)\n",
    "ax[1].set_title('wheel_r')\n",
    "plt.show()"
   ]
  },
  {
   "cell_type": "code",
   "execution_count": 249,
   "metadata": {},
   "outputs": [
    {
     "data": {
      "text/html": [
       "<div>\n",
       "<style scoped>\n",
       "    .dataframe tbody tr th:only-of-type {\n",
       "        vertical-align: middle;\n",
       "    }\n",
       "\n",
       "    .dataframe tbody tr th {\n",
       "        vertical-align: top;\n",
       "    }\n",
       "\n",
       "    .dataframe thead th {\n",
       "        text-align: right;\n",
       "    }\n",
       "</style>\n",
       "<table border=\"1\" class=\"dataframe\">\n",
       "  <thead>\n",
       "    <tr style=\"text-align: right;\">\n",
       "      <th></th>\n",
       "      <th>wheel_l</th>\n",
       "      <th>wheel_r</th>\n",
       "      <th>beta_l</th>\n",
       "      <th>beta_r</th>\n",
       "      <th>alpha</th>\n",
       "      <th>i</th>\n",
       "      <th>j</th>\n",
       "    </tr>\n",
       "  </thead>\n",
       "  <tbody>\n",
       "    <tr>\n",
       "      <th>0</th>\n",
       "      <td>4.155274</td>\n",
       "      <td>4.784391</td>\n",
       "      <td>-0.014900</td>\n",
       "      <td>-0.009315</td>\n",
       "      <td>-0.054196</td>\n",
       "      <td>2</td>\n",
       "      <td>0</td>\n",
       "    </tr>\n",
       "    <tr>\n",
       "      <th>1</th>\n",
       "      <td>5.977355</td>\n",
       "      <td>6.891848</td>\n",
       "      <td>-0.021628</td>\n",
       "      <td>0.016839</td>\n",
       "      <td>0.011449</td>\n",
       "      <td>2</td>\n",
       "      <td>0</td>\n",
       "    </tr>\n",
       "    <tr>\n",
       "      <th>2</th>\n",
       "      <td>8.223175</td>\n",
       "      <td>9.504792</td>\n",
       "      <td>-0.057873</td>\n",
       "      <td>-0.042738</td>\n",
       "      <td>-0.002856</td>\n",
       "      <td>2</td>\n",
       "      <td>0</td>\n",
       "    </tr>\n",
       "    <tr>\n",
       "      <th>3</th>\n",
       "      <td>10.903814</td>\n",
       "      <td>12.755739</td>\n",
       "      <td>-0.028137</td>\n",
       "      <td>0.013516</td>\n",
       "      <td>-0.007740</td>\n",
       "      <td>2</td>\n",
       "      <td>0</td>\n",
       "    </tr>\n",
       "    <tr>\n",
       "      <th>4</th>\n",
       "      <td>10.861779</td>\n",
       "      <td>13.326798</td>\n",
       "      <td>-0.015634</td>\n",
       "      <td>0.011683</td>\n",
       "      <td>-0.035604</td>\n",
       "      <td>2</td>\n",
       "      <td>0</td>\n",
       "    </tr>\n",
       "    <tr>\n",
       "      <th>...</th>\n",
       "      <td>...</td>\n",
       "      <td>...</td>\n",
       "      <td>...</td>\n",
       "      <td>...</td>\n",
       "      <td>...</td>\n",
       "      <td>...</td>\n",
       "      <td>...</td>\n",
       "    </tr>\n",
       "    <tr>\n",
       "      <th>1265</th>\n",
       "      <td>10.616563</td>\n",
       "      <td>14.572747</td>\n",
       "      <td>-0.033829</td>\n",
       "      <td>0.022238</td>\n",
       "      <td>-0.069511</td>\n",
       "      <td>1</td>\n",
       "      <td>2</td>\n",
       "    </tr>\n",
       "    <tr>\n",
       "      <th>1266</th>\n",
       "      <td>10.070487</td>\n",
       "      <td>13.001976</td>\n",
       "      <td>-0.020616</td>\n",
       "      <td>0.009150</td>\n",
       "      <td>-0.064357</td>\n",
       "      <td>1</td>\n",
       "      <td>2</td>\n",
       "    </tr>\n",
       "    <tr>\n",
       "      <th>1267</th>\n",
       "      <td>7.671566</td>\n",
       "      <td>12.559155</td>\n",
       "      <td>-0.139443</td>\n",
       "      <td>0.000703</td>\n",
       "      <td>-0.071222</td>\n",
       "      <td>2</td>\n",
       "      <td>2</td>\n",
       "    </tr>\n",
       "    <tr>\n",
       "      <th>1268</th>\n",
       "      <td>9.276870</td>\n",
       "      <td>12.012678</td>\n",
       "      <td>-0.030979</td>\n",
       "      <td>-0.009634</td>\n",
       "      <td>-0.031682</td>\n",
       "      <td>2</td>\n",
       "      <td>2</td>\n",
       "    </tr>\n",
       "    <tr>\n",
       "      <th>1269</th>\n",
       "      <td>9.459791</td>\n",
       "      <td>11.027048</td>\n",
       "      <td>-0.009363</td>\n",
       "      <td>0.007823</td>\n",
       "      <td>-0.023420</td>\n",
       "      <td>2</td>\n",
       "      <td>2</td>\n",
       "    </tr>\n",
       "  </tbody>\n",
       "</table>\n",
       "<p>1270 rows × 7 columns</p>\n",
       "</div>"
      ],
      "text/plain": [
       "        wheel_l    wheel_r    beta_l    beta_r     alpha  i  j\n",
       "0      4.155274   4.784391 -0.014900 -0.009315 -0.054196  2  0\n",
       "1      5.977355   6.891848 -0.021628  0.016839  0.011449  2  0\n",
       "2      8.223175   9.504792 -0.057873 -0.042738 -0.002856  2  0\n",
       "3     10.903814  12.755739 -0.028137  0.013516 -0.007740  2  0\n",
       "4     10.861779  13.326798 -0.015634  0.011683 -0.035604  2  0\n",
       "...         ...        ...       ...       ...       ... .. ..\n",
       "1265  10.616563  14.572747 -0.033829  0.022238 -0.069511  1  2\n",
       "1266  10.070487  13.001976 -0.020616  0.009150 -0.064357  1  2\n",
       "1267   7.671566  12.559155 -0.139443  0.000703 -0.071222  2  2\n",
       "1268   9.276870  12.012678 -0.030979 -0.009634 -0.031682  2  2\n",
       "1269   9.459791  11.027048 -0.009363  0.007823 -0.023420  2  2\n",
       "\n",
       "[1270 rows x 7 columns]"
      ]
     },
     "execution_count": 249,
     "metadata": {},
     "output_type": "execute_result"
    }
   ],
   "source": [
    "df"
   ]
  },
  {
   "cell_type": "code",
   "execution_count": 273,
   "metadata": {},
   "outputs": [],
   "source": [
    "i_filter = 0\n",
    "j_filter = 1"
   ]
  },
  {
   "cell_type": "code",
   "execution_count": 274,
   "metadata": {},
   "outputs": [
    {
     "data": {
      "text/html": [
       "<div>\n",
       "<style scoped>\n",
       "    .dataframe tbody tr th:only-of-type {\n",
       "        vertical-align: middle;\n",
       "    }\n",
       "\n",
       "    .dataframe tbody tr th {\n",
       "        vertical-align: top;\n",
       "    }\n",
       "\n",
       "    .dataframe thead th {\n",
       "        text-align: right;\n",
       "    }\n",
       "</style>\n",
       "<table border=\"1\" class=\"dataframe\">\n",
       "  <thead>\n",
       "    <tr style=\"text-align: right;\">\n",
       "      <th></th>\n",
       "      <th>wheel_l</th>\n",
       "      <th>wheel_r</th>\n",
       "      <th>beta_l</th>\n",
       "      <th>beta_r</th>\n",
       "      <th>alpha</th>\n",
       "      <th>i</th>\n",
       "      <th>j</th>\n",
       "    </tr>\n",
       "  </thead>\n",
       "  <tbody>\n",
       "    <tr>\n",
       "      <th>15</th>\n",
       "      <td>11.089517</td>\n",
       "      <td>10.788732</td>\n",
       "      <td>-0.014075</td>\n",
       "      <td>-0.014291</td>\n",
       "      <td>-0.020845</td>\n",
       "      <td>0</td>\n",
       "      <td>1</td>\n",
       "    </tr>\n",
       "    <tr>\n",
       "      <th>16</th>\n",
       "      <td>8.005741</td>\n",
       "      <td>8.687434</td>\n",
       "      <td>-0.026832</td>\n",
       "      <td>-0.022176</td>\n",
       "      <td>-0.029403</td>\n",
       "      <td>0</td>\n",
       "      <td>1</td>\n",
       "    </tr>\n",
       "    <tr>\n",
       "      <th>17</th>\n",
       "      <td>5.342473</td>\n",
       "      <td>7.230651</td>\n",
       "      <td>-0.037286</td>\n",
       "      <td>-0.013343</td>\n",
       "      <td>-0.020245</td>\n",
       "      <td>0</td>\n",
       "      <td>1</td>\n",
       "    </tr>\n",
       "    <tr>\n",
       "      <th>18</th>\n",
       "      <td>3.417532</td>\n",
       "      <td>6.689693</td>\n",
       "      <td>-0.037912</td>\n",
       "      <td>0.000275</td>\n",
       "      <td>0.000000</td>\n",
       "      <td>0</td>\n",
       "      <td>1</td>\n",
       "    </tr>\n",
       "    <tr>\n",
       "      <th>19</th>\n",
       "      <td>2.883514</td>\n",
       "      <td>6.628950</td>\n",
       "      <td>0.015672</td>\n",
       "      <td>0.055064</td>\n",
       "      <td>-0.125624</td>\n",
       "      <td>0</td>\n",
       "      <td>1</td>\n",
       "    </tr>\n",
       "    <tr>\n",
       "      <th>...</th>\n",
       "      <td>...</td>\n",
       "      <td>...</td>\n",
       "      <td>...</td>\n",
       "      <td>...</td>\n",
       "      <td>...</td>\n",
       "      <td>...</td>\n",
       "      <td>...</td>\n",
       "    </tr>\n",
       "    <tr>\n",
       "      <th>1253</th>\n",
       "      <td>4.765679</td>\n",
       "      <td>6.542727</td>\n",
       "      <td>0.010982</td>\n",
       "      <td>0.040713</td>\n",
       "      <td>-0.070040</td>\n",
       "      <td>0</td>\n",
       "      <td>1</td>\n",
       "    </tr>\n",
       "    <tr>\n",
       "      <th>1254</th>\n",
       "      <td>5.518318</td>\n",
       "      <td>7.725910</td>\n",
       "      <td>0.010126</td>\n",
       "      <td>0.037240</td>\n",
       "      <td>-0.050460</td>\n",
       "      <td>0</td>\n",
       "      <td>1</td>\n",
       "    </tr>\n",
       "    <tr>\n",
       "      <th>1255</th>\n",
       "      <td>6.570399</td>\n",
       "      <td>8.847197</td>\n",
       "      <td>-0.014788</td>\n",
       "      <td>0.007788</td>\n",
       "      <td>-0.017697</td>\n",
       "      <td>0</td>\n",
       "      <td>1</td>\n",
       "    </tr>\n",
       "    <tr>\n",
       "      <th>1256</th>\n",
       "      <td>7.872897</td>\n",
       "      <td>10.069863</td>\n",
       "      <td>0.017827</td>\n",
       "      <td>0.048725</td>\n",
       "      <td>-0.029380</td>\n",
       "      <td>0</td>\n",
       "      <td>1</td>\n",
       "    </tr>\n",
       "    <tr>\n",
       "      <th>1257</th>\n",
       "      <td>9.442487</td>\n",
       "      <td>11.481046</td>\n",
       "      <td>-0.043903</td>\n",
       "      <td>-0.011382</td>\n",
       "      <td>-0.055673</td>\n",
       "      <td>0</td>\n",
       "      <td>1</td>\n",
       "    </tr>\n",
       "  </tbody>\n",
       "</table>\n",
       "<p>254 rows × 7 columns</p>\n",
       "</div>"
      ],
      "text/plain": [
       "        wheel_l    wheel_r    beta_l    beta_r     alpha  i  j\n",
       "15    11.089517  10.788732 -0.014075 -0.014291 -0.020845  0  1\n",
       "16     8.005741   8.687434 -0.026832 -0.022176 -0.029403  0  1\n",
       "17     5.342473   7.230651 -0.037286 -0.013343 -0.020245  0  1\n",
       "18     3.417532   6.689693 -0.037912  0.000275  0.000000  0  1\n",
       "19     2.883514   6.628950  0.015672  0.055064 -0.125624  0  1\n",
       "...         ...        ...       ...       ...       ... .. ..\n",
       "1253   4.765679   6.542727  0.010982  0.040713 -0.070040  0  1\n",
       "1254   5.518318   7.725910  0.010126  0.037240 -0.050460  0  1\n",
       "1255   6.570399   8.847197 -0.014788  0.007788 -0.017697  0  1\n",
       "1256   7.872897  10.069863  0.017827  0.048725 -0.029380  0  1\n",
       "1257   9.442487  11.481046 -0.043903 -0.011382 -0.055673  0  1\n",
       "\n",
       "[254 rows x 7 columns]"
      ]
     },
     "execution_count": 274,
     "metadata": {},
     "output_type": "execute_result"
    }
   ],
   "source": [
    "filtered = df[(df.i == i_filter) & (df.j == j_filter)]\n",
    "filtered"
   ]
  },
  {
   "cell_type": "code",
   "execution_count": 275,
   "metadata": {},
   "outputs": [],
   "source": [
    "# filtered = filtered[(filtered.wheel_l > 9) & (filtered.wheel_r > 11)]\n",
    "# filtered.sort_values([\"wheel_l\",\"wheel_r\"])"
   ]
  },
  {
   "cell_type": "code",
   "execution_count": 276,
   "metadata": {},
   "outputs": [],
   "source": [
    "omega_l = filtered.wheel_l.values\n",
    "omega_r = filtered.wheel_r.values\n",
    "beta_l = filtered.beta_l.values\n",
    "beta_r = filtered.beta_r.values\n",
    "alpha = filtered.alpha.values"
   ]
  },
  {
   "cell_type": "code",
   "execution_count": 277,
   "metadata": {},
   "outputs": [],
   "source": [
    "%matplotlib tk"
   ]
  },
  {
   "cell_type": "code",
   "execution_count": 278,
   "metadata": {},
   "outputs": [],
   "source": [
    "fig = plt.figure(figsize=(20, 5))\n",
    "fig.suptitle(\"Residuals\")\n",
    "\n",
    "# Beta_l residuals\n",
    "ax1 = fig.add_subplot(131, projection='3d')\n",
    "ax1.scatter(omega_l, omega_r, beta_l, color=\"green\")\n",
    "ax1.set_xlabel(\"omega_l\")\n",
    "ax1.set_ylabel(\"omega_r\")\n",
    "ax1.set_title(\"beta_l\")\n",
    "# ax1.view_init(0, 0, 0)\n",
    "\n",
    "# Beta_r residuals\n",
    "ax2 = fig.add_subplot(132, projection='3d')\n",
    "ax2.scatter(omega_l, omega_r, beta_r, color=\"orange\")\n",
    "ax2.set_xlabel(\"omega_l\")\n",
    "ax2.set_ylabel(\"omega_r\")\n",
    "ax2.set_title(\"beta_r\")\n",
    "# ax2.view_init(0, 0, 0)\n",
    "\n",
    "# Alpha residuals\n",
    "ax3 = fig.add_subplot(133, projection='3d')\n",
    "ax3.scatter(omega_l, omega_r, alpha, color=\"purple\")\n",
    "ax3.set_xlabel(\"omega_l\")\n",
    "ax3.set_ylabel(\"omega_r\")\n",
    "ax3.set_title(\"alpha\")\n",
    "# ax3.view_init(0, 0, 0)\n",
    "\n",
    "plt.show()"
   ]
  },
  {
   "cell_type": "code",
   "execution_count": 279,
   "metadata": {},
   "outputs": [],
   "source": [
    "X = np.column_stack((np.ones(len(omega_l)), omega_l, omega_r))\n",
    "Y = np.column_stack((beta_l, beta_r, alpha))"
   ]
  },
  {
   "cell_type": "code",
   "execution_count": 280,
   "metadata": {},
   "outputs": [
    {
     "data": {
      "text/plain": [
       "array([[-0.02863276, -0.07966119,  0.00644294],\n",
       "       [-0.001924  , -0.02441223,  0.01557667],\n",
       "       [ 0.00333874,  0.02926153, -0.0152573 ]])"
      ]
     },
     "execution_count": 280,
     "metadata": {},
     "output_type": "execute_result"
    }
   ],
   "source": [
    "# OLS regressor\n",
    "\n",
    "theta_hat_ols = np.linalg.inv(X.T @ X) @ (X.T @ Y)\n",
    "y_hat_ols = X @ theta_hat_ols\n",
    "\n",
    "theta_hat_ols"
   ]
  },
  {
   "cell_type": "code",
   "execution_count": 281,
   "metadata": {},
   "outputs": [],
   "source": [
    "residuals_ols = Y - y_hat_ols"
   ]
  },
  {
   "cell_type": "code",
   "execution_count": 282,
   "metadata": {},
   "outputs": [],
   "source": [
    "%matplotlib inline"
   ]
  },
  {
   "cell_type": "code",
   "execution_count": 283,
   "metadata": {},
   "outputs": [
    {
     "data": {
      "image/png": "[encoded data removed]",
      "text/plain": [
       "<Figure size 640x480 with 1 Axes>"
      ]
     },
     "metadata": {},
     "output_type": "display_data"
    }
   ],
   "source": [
    "bound = max(abs(residuals_ols[...,0].min()),abs(residuals_ols[...,0].max()))\n",
    "plt.ylim(-bound*1.1, bound*1.1)\n",
    "plt.scatter(y_hat_ols[...,0], residuals_ols[...,0])\n",
    "plt.axhline(0,linestyle='--', color='black')\n",
    "plt.xlabel(\"Predicted beta_l\")\n",
    "plt.ylabel(\"Residual\")\n",
    "plt.show()"
   ]
  },
  {
   "cell_type": "code",
   "execution_count": 284,
   "metadata": {},
   "outputs": [
    {
     "data": {
      "image/png": "[encoded data removed]",
      "text/plain": [
       "<Figure size 640x480 with 1 Axes>"
      ]
     },
     "metadata": {},
     "output_type": "display_data"
    }
   ],
   "source": [
    "bound = max(abs(residuals_ols[...,1].min()),abs(residuals_ols[...,1].max()))\n",
    "plt.ylim(-bound*1.1, bound*1.1)\n",
    "plt.scatter(y_hat_ols[...,1], residuals_ols[...,1])\n",
    "plt.axhline(0,linestyle='--', color='black')\n",
    "plt.xlabel(\"Predicted beta_r\")\n",
    "plt.ylabel(\"Residual\")\n",
    "plt.show()"
   ]
  },
  {
   "cell_type": "code",
   "execution_count": 285,
   "metadata": {},
   "outputs": [
    {
     "data": {
      "image/png": "[encoded data removed]",
      "text/plain": [
       "<Figure size 640x480 with 1 Axes>"
      ]
     },
     "metadata": {},
     "output_type": "display_data"
    }
   ],
   "source": [
    "bound = max(abs(residuals_ols[...,2].min()),abs(residuals_ols[...,2].max()))\n",
    "plt.ylim(-bound*1.1, bound*1.1)\n",
    "plt.scatter(y_hat_ols[...,2], residuals_ols[...,2])\n",
    "plt.axhline(0,linestyle='--', color='black')\n",
    "plt.xlabel(\"Predicted alpha\")\n",
    "plt.ylabel(\"Residual\")\n",
    "plt.show()"
   ]
  },
  {
   "cell_type": "code",
   "execution_count": 286,
   "metadata": {},
   "outputs": [
    {
     "data": {
      "text/plain": [
       "array([[-0.0289131 , -0.07933825,  0.00656644],\n",
       "       [-0.00200048, -0.02429535,  0.01563497],\n",
       "       [ 0.0034271 ,  0.02913874, -0.01532799]])"
      ]
     },
     "execution_count": 286,
     "metadata": {},
     "output_type": "execute_result"
    }
   ],
   "source": [
    "# WLS regressor\n",
    "\n",
    "weights_l = 1 / (residuals_ols[:, 0] ** 2 + 1e-20) \n",
    "weights_r = 1 / (residuals_ols[:, 1] ** 2 + 1e-20) \n",
    "weights_alpha = 1 / (residuals_ols[:, 2] ** 2 + 1e-20)\n",
    "\n",
    "W_l = np.diag(weights_l)\n",
    "W_r = np.diag(weights_r)\n",
    "W_alpha = np.diag(weights_alpha)\n",
    "\n",
    "W = block_diag(W_l, W_r, W_alpha)\n",
    "\n",
    "X_expanded = np.kron(np.eye(3), X)\n",
    "\n",
    "XTWX_inv = np.linalg.inv(X_expanded.T @ W @ X_expanded)\n",
    "XTWy = X_expanded.T @ W @ Y.flatten(order='F')\n",
    "theta_hat_wls_flat = XTWX_inv @ XTWy\n",
    "\n",
    "theta_hat_wls = theta_hat_wls_flat.reshape(3, -1).T\n",
    "y_hat_wls = X @ theta_hat_wls\n",
    "\n",
    "theta_hat_wls"
   ]
  },
  {
   "cell_type": "code",
   "execution_count": 287,
   "metadata": {},
   "outputs": [],
   "source": [
    "residuals_wls = Y - y_hat_wls"
   ]
  },
  {
   "cell_type": "code",
   "execution_count": 288,
   "metadata": {},
   "outputs": [],
   "source": [
    "std_residuals_beta_l = residuals_wls[:, 0] * np.sqrt(weights_l)\n",
    "std_residuals_beta_r = residuals_wls[:, 1] * np.sqrt(weights_r)\n",
    "std_residuals_alpha = residuals_wls[:, 2] * np.sqrt(weights_alpha)"
   ]
  },
  {
   "cell_type": "code",
   "execution_count": 289,
   "metadata": {},
   "outputs": [
    {
     "data": {
      "image/png": "[encoded data removed]",
      "text/plain": [
       "<Figure size 640x480 with 1 Axes>"
      ]
     },
     "metadata": {},
     "output_type": "display_data"
    }
   ],
   "source": [
    "bound = max(abs(std_residuals_beta_l.min()),abs(std_residuals_beta_l.max()))\n",
    "plt.ylim(-bound*1.1, bound*1.1)\n",
    "plt.scatter(y_hat_wls[...,0], std_residuals_beta_l)\n",
    "plt.axhline(0,linestyle='--', color='black')\n",
    "plt.xlabel(\"Predicted beta_l\")\n",
    "plt.ylabel(\"Residual\")\n",
    "plt.show()"
   ]
  },
  {
   "cell_type": "code",
   "execution_count": 290,
   "metadata": {},
   "outputs": [
    {
     "data": {
      "image/png": "[encoded data removed]",
      "text/plain": [
       "<Figure size 640x480 with 1 Axes>"
      ]
     },
     "metadata": {},
     "output_type": "display_data"
    }
   ],
   "source": [
    "bound = max(abs(std_residuals_beta_r.min()),abs(std_residuals_beta_r.max()))\n",
    "plt.ylim(-bound*1.1, bound*1.1)\n",
    "plt.scatter(y_hat_wls[...,1], std_residuals_beta_r)\n",
    "plt.axhline(0,linestyle='--', color='black')\n",
    "plt.xlabel(\"Predicted beta_r\")\n",
    "plt.ylabel(\"Residual\")\n",
    "plt.show()"
   ]
  },
  {
   "cell_type": "code",
   "execution_count": 291,
   "metadata": {},
   "outputs": [
    {
     "data": {
      "image/png": "[encoded data removed]",
      "text/plain": [
       "<Figure size 640x480 with 1 Axes>"
      ]
     },
     "metadata": {},
     "output_type": "display_data"
    }
   ],
   "source": [
    "bound = max(abs(std_residuals_alpha.min()),abs(std_residuals_alpha.max()))\n",
    "plt.ylim(-bound*1.1, bound*1.1)\n",
    "plt.scatter(y_hat_wls[...,2], std_residuals_alpha)\n",
    "plt.axhline(0,linestyle='--', color='black')\n",
    "plt.xlabel(\"Predicted alpha\")\n",
    "plt.ylabel(\"Residual\")\n",
    "plt.show()"
   ]
  },
  {
   "cell_type": "code",
   "execution_count": 292,
   "metadata": {},
   "outputs": [],
   "source": [
    "%matplotlib tk"
   ]
  },
  {
   "cell_type": "code",
   "execution_count": 293,
   "metadata": {},
   "outputs": [],
   "source": [
    "fig = plt.figure(figsize=(20, 5))\n",
    "fig.suptitle(\"Data\")\n",
    "\n",
    "# Beta_l residuals\n",
    "ax1 = fig.add_subplot(131, projection='3d')\n",
    "ax1.scatter(omega_l, omega_r, beta_l, color=\"green\")\n",
    "ax1.scatter(omega_l, omega_r, y_hat_ols[...,0], color=\"blue\")\n",
    "ax1.scatter(omega_l, omega_r, y_hat_wls[...,0], color=\"red\")\n",
    "ax1.set_xlabel(\"omega_l\")\n",
    "ax1.set_ylabel(\"omega_r\")\n",
    "ax1.set_title(\"beta_l\")\n",
    "# ax1.view_init(0, 0, 0)\n",
    "\n",
    "# Beta_r residuals\n",
    "ax2 = fig.add_subplot(132, projection='3d')\n",
    "ax2.scatter(omega_l, omega_r, beta_r, color=\"orange\")\n",
    "ax2.scatter(omega_l, omega_r, y_hat_ols[...,1], color=\"blue\")\n",
    "ax2.scatter(omega_l, omega_r, y_hat_wls[...,1], color=\"red\")\n",
    "ax2.set_xlabel(\"omega_l\")\n",
    "ax2.set_ylabel(\"omega_r\")\n",
    "ax2.set_title(\"beta_r\")\n",
    "# ax2.view_init(0, 0, 0)\n",
    "\n",
    "# Alpha residuals\n",
    "ax3 = fig.add_subplot(133, projection='3d')\n",
    "ax3.scatter(omega_l, omega_r, alpha, color=\"purple\")\n",
    "ax3.scatter(omega_l, omega_r, y_hat_ols[...,2], color=\"blue\")\n",
    "ax3.scatter(omega_l, omega_r, y_hat_wls[...,2], color=\"red\")\n",
    "ax3.set_xlabel(\"omega_l\")\n",
    "ax3.set_ylabel(\"omega_r\")\n",
    "ax3.set_title(\"alpha\")\n",
    "# ax3.view_init(0, 0, 0)\n",
    "\n",
    "plt.show()"
   ]
  },
  {
   "cell_type": "code",
   "execution_count": 294,
   "metadata": {},
   "outputs": [],
   "source": [
    "# Extract coefficients from WLS estimation\n",
    "theta_0_l, theta_1_l, theta_2_l = theta_hat_wls[:, 0]  # Coefficients for beta_l\n",
    "theta_0_r, theta_1_r, theta_2_r = theta_hat_wls[:, 1]  # Coefficients for beta_r\n",
    "theta_0_alpha, theta_1_alpha, theta_2_alpha = theta_hat_wls[:, 2]  # Coefficients for alpha\n",
    "\n",
    "# Create a grid of values for omega_l and omega_r\n",
    "omega_l_grid, omega_r_grid = np.meshgrid(np.linspace(omega_l.min(), omega_l.max(), 100),\n",
    "                                         np.linspace(omega_r.min(), omega_r.max(), 100))\n",
    "\n",
    "# Calculate the corresponding beta_l, beta_r, and alpha values on the grid\n",
    "beta_l_grid = theta_0_l + theta_1_l * omega_l_grid + theta_2_l * omega_r_grid\n",
    "beta_r_grid = theta_0_r + theta_1_r * omega_l_grid + theta_2_r * omega_r_grid\n",
    "alpha_grid = theta_0_alpha + theta_1_alpha * omega_l_grid + theta_2_alpha * omega_r_grid"
   ]
  },
  {
   "cell_type": "code",
   "execution_count": 295,
   "metadata": {},
   "outputs": [],
   "source": [
    "fig = plt.figure(figsize=(20, 5))\n",
    "fig.suptitle(\"Residuals\")\n",
    "\n",
    "\n",
    "\n",
    "# Beta_l residuals\n",
    "ax1 = fig.add_subplot(131, projection='3d')\n",
    "ax1.scatter(omega_l, omega_r, beta_l, color=\"green\")\n",
    "ax1.scatter(omega_l, omega_r, y_hat_ols[...,0], color=\"blue\")\n",
    "ax1.scatter(omega_l, omega_r, y_hat_wls[...,0], color=\"red\")\n",
    "ax1.plot_surface(omega_l_grid, omega_r_grid, beta_l_grid, alpha=1)\n",
    "ax1.set_xlabel(\"omega_l\")\n",
    "ax1.set_ylabel(\"omega_r\")\n",
    "ax1.set_title(\"beta_l\")\n",
    "# ax1.view_init(0, 0, 0)\n",
    "\n",
    "# Beta_r residuals\n",
    "ax2 = fig.add_subplot(132, projection='3d')\n",
    "ax2.scatter(omega_l, omega_r, beta_r, color=\"orange\")\n",
    "ax2.scatter(omega_l, omega_r, y_hat_ols[...,1], color=\"blue\")\n",
    "ax2.scatter(omega_l, omega_r, y_hat_wls[...,1], color=\"red\")\n",
    "ax2.plot_surface(omega_l_grid, omega_r_grid, beta_r_grid, alpha=1)\n",
    "ax2.set_xlabel(\"omega_l\")\n",
    "ax2.set_ylabel(\"omega_r\")\n",
    "ax2.set_title(\"beta_r\")\n",
    "# ax2.view_init(0, 0, 0)\n",
    "\n",
    "# Alpha residuals\n",
    "ax3 = fig.add_subplot(133, projection='3d')\n",
    "ax3.scatter(omega_l, omega_r, alpha, color=\"purple\")\n",
    "ax3.scatter(omega_l, omega_r, y_hat_ols[...,2], color=\"blue\")\n",
    "ax3.scatter(omega_l, omega_r, y_hat_wls[...,2], color=\"red\")\n",
    "ax3.plot_surface(omega_l_grid, omega_r_grid, alpha_grid, alpha=1)\n",
    "ax3.set_xlabel(\"omega_l\")\n",
    "ax3.set_ylabel(\"omega_r\")\n",
    "ax3.set_title(\"alpha\")\n",
    "# ax3.view_init(0, 0, 0)\n",
    "\n",
    "plt.show()"
   ]
  },
  {
   "cell_type": "code",
   "execution_count": 296,
   "metadata": {},
   "outputs": [
    {
     "name": "stdout",
     "output_type": "stream",
     "text": [
      "beta_l r2: ols=0.008328253841825006, wls=0.00831907368685314\n",
      "beta_r r2: ols=0.3082982229604865, wls=0.30828928881110174\n",
      "alpha r2: ols=0.1627095974205227, wls=0.16270289439806485\n"
     ]
    }
   ],
   "source": [
    "print(f\"beta_l r2: ols={r2_score(Y[...,0], y_hat_ols[...,0])}, wls={r2_score(Y[...,0], y_hat_wls[...,0])}\")\n",
    "print(f\"beta_r r2: ols={r2_score(Y[...,1], y_hat_ols[...,1])}, wls={r2_score(Y[...,1], y_hat_wls[...,1])}\")\n",
    "print(f\"alpha r2: ols={r2_score(Y[...,2], y_hat_ols[...,2])}, wls={r2_score(Y[...,2], y_hat_wls[...,2])}\")"
   ]
  },
  {
   "cell_type": "code",
   "execution_count": 305,
   "metadata": {},
   "outputs": [],
   "source": [
    "df_1 = pd.read_csv(\"data/1.csv\", index_col=0) "
   ]
  },
  {
   "cell_type": "code",
   "execution_count": 309,
   "metadata": {},
   "outputs": [],
   "source": [
    "fig = plt.figure(figsize=(20, 5))\n",
    "fig.suptitle(\"Residuals\")\n",
    "\n",
    "omega_l_gt = df_1.wheel_l.values\n",
    "omega_r_gt = df_1.wheel_r.values\n",
    "beta_l_gt = df_1.beta_l.values\n",
    "beta_r_gt = df_1.beta_r.values\n",
    "alpha_gt = df_1.alpha.values\n",
    "\n",
    "# Beta_l residuals\n",
    "ax1 = fig.add_subplot(131, projection='3d')\n",
    "ax1.scatter(omega_l_gt, omega_r_gt, beta_l_gt, color=\"green\")\n",
    "ax1.plot_surface(omega_l_grid, omega_r_grid, beta_l_grid, alpha=1)\n",
    "ax1.set_xlabel(\"omega_l\")\n",
    "ax1.set_ylabel(\"omega_r\")\n",
    "ax1.set_title(\"beta_l\")\n",
    "# ax1.view_init(0, 0, 0)\n",
    "\n",
    "# Beta_r residuals\n",
    "ax2 = fig.add_subplot(132, projection='3d')\n",
    "ax2.scatter(omega_l_gt, omega_r_gt, beta_r_gt, color=\"orange\")\n",
    "ax2.plot_surface(omega_l_grid, omega_r_grid, beta_r_grid, alpha=1)\n",
    "ax2.set_xlabel(\"omega_l\")\n",
    "ax2.set_ylabel(\"omega_r\")\n",
    "ax2.set_title(\"beta_r\")\n",
    "# ax2.view_init(0, 0, 0)\n",
    "\n",
    "# Alpha residuals\n",
    "ax3 = fig.add_subplot(133, projection='3d')\n",
    "ax3.scatter(omega_l_gt, omega_r_gt, alpha_gt, color=\"purple\")\n",
    "ax3.plot_surface(omega_l_grid, omega_r_grid, alpha_grid, alpha=1)\n",
    "ax3.set_xlabel(\"omega_l\")\n",
    "ax3.set_ylabel(\"omega_r\")\n",
    "ax3.set_title(\"alpha\")\n",
    "# ax3.view_init(0, 0, 0)\n",
    "\n",
    "plt.show()"
   ]
  }
 ],
 "metadata": {
  "kernelspec": {
   "display_name": "orbit",
   "language": "python",
   "name": "python3"
  },
  "language_info": {
   "codemirror_mode": {
    "name": "ipython",
    "version": 3
   },
   "file_extension": ".py",
   "mimetype": "text/x-python",
   "name": "python",
   "nbconvert_exporter": "python",
   "pygments_lexer": "ipython3",
   "version": "3.10.14"
  }
 },
 "nbformat": 4,
 "nbformat_minor": 2
}
