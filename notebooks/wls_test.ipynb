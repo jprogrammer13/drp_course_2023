{
 "cells": [
  {
   "cell_type": "code",
   "execution_count": 60,
   "metadata": {},
   "outputs": [],
   "source": [
    "import numpy as np\n",
    "import pandas as pd\n",
    "import matplotlib.pyplot as plt\n",
    "from sklearn.metrics import r2_score"
   ]
  },
  {
   "cell_type": "code",
   "execution_count": 2,
   "metadata": {},
   "outputs": [],
   "source": [
    "data = \"../data/robot_data.csv\"\n"
   ]
  },
  {
   "cell_type": "code",
   "execution_count": 3,
   "metadata": {},
   "outputs": [],
   "source": [
    "df = pd.read_csv(data,header=None, names=['wheel_l','wheel_r','beta_l','beta_r','alpha', 'i', 'j'])"
   ]
  },
  {
   "cell_type": "code",
   "execution_count": 4,
   "metadata": {},
   "outputs": [
    {
     "data": {
      "text/html": [
       "<div>\n",
       "<style scoped>\n",
       "    .dataframe tbody tr th:only-of-type {\n",
       "        vertical-align: middle;\n",
       "    }\n",
       "\n",
       "    .dataframe tbody tr th {\n",
       "        vertical-align: top;\n",
       "    }\n",
       "\n",
       "    .dataframe thead th {\n",
       "        text-align: right;\n",
       "    }\n",
       "</style>\n",
       "<table border=\"1\" class=\"dataframe\">\n",
       "  <thead>\n",
       "    <tr style=\"text-align: right;\">\n",
       "      <th></th>\n",
       "      <th>wheel_l</th>\n",
       "      <th>wheel_r</th>\n",
       "      <th>beta_l</th>\n",
       "      <th>beta_r</th>\n",
       "      <th>alpha</th>\n",
       "      <th>i</th>\n",
       "      <th>j</th>\n",
       "    </tr>\n",
       "  </thead>\n",
       "  <tbody>\n",
       "    <tr>\n",
       "      <th>0</th>\n",
       "      <td>13.667083</td>\n",
       "      <td>15.014833</td>\n",
       "      <td>0.910432</td>\n",
       "      <td>1.025692</td>\n",
       "      <td>0.000000</td>\n",
       "      <td>4.0</td>\n",
       "      <td>4.0</td>\n",
       "    </tr>\n",
       "    <tr>\n",
       "      <th>1</th>\n",
       "      <td>3.989922</td>\n",
       "      <td>5.276173</td>\n",
       "      <td>-0.069388</td>\n",
       "      <td>-0.021717</td>\n",
       "      <td>-0.003247</td>\n",
       "      <td>5.0</td>\n",
       "      <td>3.0</td>\n",
       "    </tr>\n",
       "    <tr>\n",
       "      <th>2</th>\n",
       "      <td>13.434004</td>\n",
       "      <td>14.772097</td>\n",
       "      <td>0.865255</td>\n",
       "      <td>0.979679</td>\n",
       "      <td>0.000000</td>\n",
       "      <td>4.0</td>\n",
       "      <td>1.0</td>\n",
       "    </tr>\n",
       "    <tr>\n",
       "      <th>3</th>\n",
       "      <td>14.604564</td>\n",
       "      <td>15.942049</td>\n",
       "      <td>1.006339</td>\n",
       "      <td>1.120739</td>\n",
       "      <td>0.000000</td>\n",
       "      <td>3.0</td>\n",
       "      <td>0.0</td>\n",
       "    </tr>\n",
       "    <tr>\n",
       "      <th>4</th>\n",
       "      <td>3.381492</td>\n",
       "      <td>4.574070</td>\n",
       "      <td>-0.010082</td>\n",
       "      <td>0.005127</td>\n",
       "      <td>0.000000</td>\n",
       "      <td>1.0</td>\n",
       "      <td>1.0</td>\n",
       "    </tr>\n",
       "    <tr>\n",
       "      <th>...</th>\n",
       "      <td>...</td>\n",
       "      <td>...</td>\n",
       "      <td>...</td>\n",
       "      <td>...</td>\n",
       "      <td>...</td>\n",
       "      <td>...</td>\n",
       "      <td>...</td>\n",
       "    </tr>\n",
       "    <tr>\n",
       "      <th>935</th>\n",
       "      <td>3.245135</td>\n",
       "      <td>4.250640</td>\n",
       "      <td>-0.005125</td>\n",
       "      <td>0.005139</td>\n",
       "      <td>0.000000</td>\n",
       "      <td>3.0</td>\n",
       "      <td>5.0</td>\n",
       "    </tr>\n",
       "    <tr>\n",
       "      <th>936</th>\n",
       "      <td>3.243161</td>\n",
       "      <td>4.250255</td>\n",
       "      <td>-0.005009</td>\n",
       "      <td>0.005065</td>\n",
       "      <td>-0.005762</td>\n",
       "      <td>4.0</td>\n",
       "      <td>4.0</td>\n",
       "    </tr>\n",
       "    <tr>\n",
       "      <th>937</th>\n",
       "      <td>3.242076</td>\n",
       "      <td>4.252297</td>\n",
       "      <td>-0.005160</td>\n",
       "      <td>0.005174</td>\n",
       "      <td>0.000000</td>\n",
       "      <td>5.0</td>\n",
       "      <td>2.0</td>\n",
       "    </tr>\n",
       "    <tr>\n",
       "      <th>938</th>\n",
       "      <td>3.244541</td>\n",
       "      <td>4.255521</td>\n",
       "      <td>-0.005044</td>\n",
       "      <td>0.005084</td>\n",
       "      <td>-0.004324</td>\n",
       "      <td>4.0</td>\n",
       "      <td>1.0</td>\n",
       "    </tr>\n",
       "    <tr>\n",
       "      <th>939</th>\n",
       "      <td>3.252240</td>\n",
       "      <td>4.269578</td>\n",
       "      <td>-0.005075</td>\n",
       "      <td>0.005133</td>\n",
       "      <td>-0.005889</td>\n",
       "      <td>3.0</td>\n",
       "      <td>0.0</td>\n",
       "    </tr>\n",
       "  </tbody>\n",
       "</table>\n",
       "<p>940 rows × 7 columns</p>\n",
       "</div>"
      ],
      "text/plain": [
       "       wheel_l    wheel_r    beta_l    beta_r     alpha    i    j\n",
       "0    13.667083  15.014833  0.910432  1.025692  0.000000  4.0  4.0\n",
       "1     3.989922   5.276173 -0.069388 -0.021717 -0.003247  5.0  3.0\n",
       "2    13.434004  14.772097  0.865255  0.979679  0.000000  4.0  1.0\n",
       "3    14.604564  15.942049  1.006339  1.120739  0.000000  3.0  0.0\n",
       "4     3.381492   4.574070 -0.010082  0.005127  0.000000  1.0  1.0\n",
       "..         ...        ...       ...       ...       ...  ...  ...\n",
       "935   3.245135   4.250640 -0.005125  0.005139  0.000000  3.0  5.0\n",
       "936   3.243161   4.250255 -0.005009  0.005065 -0.005762  4.0  4.0\n",
       "937   3.242076   4.252297 -0.005160  0.005174  0.000000  5.0  2.0\n",
       "938   3.244541   4.255521 -0.005044  0.005084 -0.004324  4.0  1.0\n",
       "939   3.252240   4.269578 -0.005075  0.005133 -0.005889  3.0  0.0\n",
       "\n",
       "[940 rows x 7 columns]"
      ]
     },
     "execution_count": 4,
     "metadata": {},
     "output_type": "execute_result"
    }
   ],
   "source": [
    "df"
   ]
  },
  {
   "cell_type": "code",
   "execution_count": 5,
   "metadata": {},
   "outputs": [],
   "source": [
    "i_filter = 3\n",
    "j_filter = 0"
   ]
  },
  {
   "cell_type": "code",
   "execution_count": 6,
   "metadata": {},
   "outputs": [
    {
     "data": {
      "text/html": [
       "<div>\n",
       "<style scoped>\n",
       "    .dataframe tbody tr th:only-of-type {\n",
       "        vertical-align: middle;\n",
       "    }\n",
       "\n",
       "    .dataframe tbody tr th {\n",
       "        vertical-align: top;\n",
       "    }\n",
       "\n",
       "    .dataframe thead th {\n",
       "        text-align: right;\n",
       "    }\n",
       "</style>\n",
       "<table border=\"1\" class=\"dataframe\">\n",
       "  <thead>\n",
       "    <tr style=\"text-align: right;\">\n",
       "      <th></th>\n",
       "      <th>wheel_l</th>\n",
       "      <th>wheel_r</th>\n",
       "      <th>beta_l</th>\n",
       "      <th>beta_r</th>\n",
       "      <th>alpha</th>\n",
       "      <th>i</th>\n",
       "      <th>j</th>\n",
       "    </tr>\n",
       "  </thead>\n",
       "  <tbody>\n",
       "    <tr>\n",
       "      <th>3</th>\n",
       "      <td>14.604564</td>\n",
       "      <td>15.942049</td>\n",
       "      <td>1.006339</td>\n",
       "      <td>1.120739</td>\n",
       "      <td>0.000000</td>\n",
       "      <td>3.0</td>\n",
       "      <td>0.0</td>\n",
       "    </tr>\n",
       "    <tr>\n",
       "      <th>8</th>\n",
       "      <td>11.169409</td>\n",
       "      <td>12.989319</td>\n",
       "      <td>0.460288</td>\n",
       "      <td>0.615897</td>\n",
       "      <td>0.000000</td>\n",
       "      <td>3.0</td>\n",
       "      <td>0.0</td>\n",
       "    </tr>\n",
       "    <tr>\n",
       "      <th>27</th>\n",
       "      <td>3.112592</td>\n",
       "      <td>4.816755</td>\n",
       "      <td>-0.008202</td>\n",
       "      <td>0.008432</td>\n",
       "      <td>-0.022018</td>\n",
       "      <td>3.0</td>\n",
       "      <td>0.0</td>\n",
       "    </tr>\n",
       "    <tr>\n",
       "      <th>32</th>\n",
       "      <td>3.215615</td>\n",
       "      <td>4.697971</td>\n",
       "      <td>-0.007333</td>\n",
       "      <td>0.007346</td>\n",
       "      <td>-0.016327</td>\n",
       "      <td>3.0</td>\n",
       "      <td>0.0</td>\n",
       "    </tr>\n",
       "    <tr>\n",
       "      <th>37</th>\n",
       "      <td>3.281239</td>\n",
       "      <td>4.600027</td>\n",
       "      <td>-0.006605</td>\n",
       "      <td>0.006501</td>\n",
       "      <td>-0.012222</td>\n",
       "      <td>3.0</td>\n",
       "      <td>0.0</td>\n",
       "    </tr>\n",
       "    <tr>\n",
       "      <th>...</th>\n",
       "      <td>...</td>\n",
       "      <td>...</td>\n",
       "      <td>...</td>\n",
       "      <td>...</td>\n",
       "      <td>...</td>\n",
       "      <td>...</td>\n",
       "      <td>...</td>\n",
       "    </tr>\n",
       "    <tr>\n",
       "      <th>919</th>\n",
       "      <td>3.252599</td>\n",
       "      <td>4.263266</td>\n",
       "      <td>-0.005028</td>\n",
       "      <td>0.005079</td>\n",
       "      <td>-0.005819</td>\n",
       "      <td>3.0</td>\n",
       "      <td>0.0</td>\n",
       "    </tr>\n",
       "    <tr>\n",
       "      <th>924</th>\n",
       "      <td>3.255037</td>\n",
       "      <td>4.261844</td>\n",
       "      <td>-0.005009</td>\n",
       "      <td>0.005060</td>\n",
       "      <td>-0.005755</td>\n",
       "      <td>3.0</td>\n",
       "      <td>0.0</td>\n",
       "    </tr>\n",
       "    <tr>\n",
       "      <th>929</th>\n",
       "      <td>3.255788</td>\n",
       "      <td>4.262295</td>\n",
       "      <td>-0.005011</td>\n",
       "      <td>0.005062</td>\n",
       "      <td>-0.005743</td>\n",
       "      <td>3.0</td>\n",
       "      <td>0.0</td>\n",
       "    </tr>\n",
       "    <tr>\n",
       "      <th>934</th>\n",
       "      <td>3.254794</td>\n",
       "      <td>4.264788</td>\n",
       "      <td>-0.005033</td>\n",
       "      <td>0.005086</td>\n",
       "      <td>-0.005787</td>\n",
       "      <td>3.0</td>\n",
       "      <td>0.0</td>\n",
       "    </tr>\n",
       "    <tr>\n",
       "      <th>939</th>\n",
       "      <td>3.252240</td>\n",
       "      <td>4.269578</td>\n",
       "      <td>-0.005075</td>\n",
       "      <td>0.005133</td>\n",
       "      <td>-0.005889</td>\n",
       "      <td>3.0</td>\n",
       "      <td>0.0</td>\n",
       "    </tr>\n",
       "  </tbody>\n",
       "</table>\n",
       "<p>64 rows × 7 columns</p>\n",
       "</div>"
      ],
      "text/plain": [
       "       wheel_l    wheel_r    beta_l    beta_r     alpha    i    j\n",
       "3    14.604564  15.942049  1.006339  1.120739  0.000000  3.0  0.0\n",
       "8    11.169409  12.989319  0.460288  0.615897  0.000000  3.0  0.0\n",
       "27    3.112592   4.816755 -0.008202  0.008432 -0.022018  3.0  0.0\n",
       "32    3.215615   4.697971 -0.007333  0.007346 -0.016327  3.0  0.0\n",
       "37    3.281239   4.600027 -0.006605  0.006501 -0.012222  3.0  0.0\n",
       "..         ...        ...       ...       ...       ...  ...  ...\n",
       "919   3.252599   4.263266 -0.005028  0.005079 -0.005819  3.0  0.0\n",
       "924   3.255037   4.261844 -0.005009  0.005060 -0.005755  3.0  0.0\n",
       "929   3.255788   4.262295 -0.005011  0.005062 -0.005743  3.0  0.0\n",
       "934   3.254794   4.264788 -0.005033  0.005086 -0.005787  3.0  0.0\n",
       "939   3.252240   4.269578 -0.005075  0.005133 -0.005889  3.0  0.0\n",
       "\n",
       "[64 rows x 7 columns]"
      ]
     },
     "execution_count": 6,
     "metadata": {},
     "output_type": "execute_result"
    }
   ],
   "source": [
    "filtered = df[(df.i == i_filter) & (df.j == j_filter)]\n",
    "filtered"
   ]
  },
  {
   "cell_type": "code",
   "execution_count": 7,
   "metadata": {},
   "outputs": [
    {
     "name": "stdout",
     "output_type": "stream",
     "text": [
      "WLS Estimated coefficients: [-0.17061293  0.11932017 -0.05197438]\n"
     ]
    }
   ],
   "source": [
    "# Example data\n",
    "omega_l = filtered.wheel_l.values\n",
    "omega_r = filtered.wheel_r.values\n",
    "beta_l = filtered.beta_l.values\n",
    "\n",
    "# Initial OLS regression to get residuals\n",
    "X = np.column_stack((np.ones(len(omega_l)), omega_l, omega_r))\n",
    "theta_hat_ols = np.linalg.inv(X.T @ X) @ (X.T @ beta_l)\n",
    "beta_l_hat_ols = X @ theta_hat_ols\n",
    "residuals_ols = beta_l - beta_l_hat_ols\n",
    "\n",
    "# Estimate weights as the inverse of the squared residuals\n",
    "weights = 1 / (residuals_ols ** 2)\n",
    "\n",
    "# Now use these weights in the WLS estimation\n",
    "W = np.diag(weights)\n",
    "XTWX_inv = np.linalg.inv(X.T @ W @ X)\n",
    "XTWy = X.T @ W @ beta_l\n",
    "theta_hat_wls = XTWX_inv @ XTWy\n",
    "\n",
    "# Estimated coefficients from WLS\n",
    "theta_0, theta_1, theta_2 = theta_hat_wls\n",
    "print(\"WLS Estimated coefficients:\", theta_hat_wls)\n"
   ]
  },
  {
   "cell_type": "code",
   "execution_count": 8,
   "metadata": {},
   "outputs": [],
   "source": [
    "def model(x,theta):\n",
    "    return theta[0] + theta[1] * x[...,0] + theta[2] * x[...,1]"
   ]
  },
  {
   "cell_type": "code",
   "execution_count": 9,
   "metadata": {},
   "outputs": [],
   "source": [
    "x = filtered[[\"wheel_l\", \"wheel_r\"]].values\n",
    "y = filtered.beta_l.values"
   ]
  },
  {
   "cell_type": "code",
   "execution_count": 10,
   "metadata": {},
   "outputs": [],
   "source": [
    "y_hat = model(x, theta_hat_wls)"
   ]
  },
  {
   "cell_type": "code",
   "execution_count": 49,
   "metadata": {},
   "outputs": [],
   "source": [
    "y_hat_ols = model(x, theta_hat_ols)"
   ]
  },
  {
   "cell_type": "code",
   "execution_count": 51,
   "metadata": {},
   "outputs": [
    {
     "data": {
      "image/png": "[encoded data removed]",
      "text/plain": [
       "<Figure size 640x480 with 1 Axes>"
      ]
     },
     "metadata": {},
     "output_type": "display_data"
    }
   ],
   "source": [
    "plt.hist(y)\n",
    "plt.hist(y_hat)\n",
    "plt.hist(y_hat_ols)\n",
    "plt.show()"
   ]
  },
  {
   "cell_type": "code",
   "execution_count": 55,
   "metadata": {},
   "outputs": [
    {
     "data": {
      "image/png": "[encoded data removed]",
      "text/plain": [
       "<Figure size 500x500 with 1 Axes>"
      ]
     },
     "metadata": {},
     "output_type": "display_data"
    }
   ],
   "source": [
    "y_min = min(y.min(),y_hat.min(),y_hat_ols.min())\n",
    "y_max = max(y.max(),y_hat.max(),y_hat_ols.max())\n",
    "plt.figure(figsize=(5,5))\n",
    "plt.xlim(y_min-0.1,y_max+0.1)\n",
    "plt.ylim(y_min-0.1,y_max+0.1)\n",
    "plt.scatter(y,y_hat)\n",
    "plt.plot([[y_min,y_min],[y_max,y_max]], \"--\", color='black')\n",
    "plt.show()"
   ]
  },
  {
   "cell_type": "code",
   "execution_count": 57,
   "metadata": {},
   "outputs": [
    {
     "data": {
      "image/png": "[encoded data removed]",
      "text/plain": [
       "<Figure size 500x500 with 1 Axes>"
      ]
     },
     "metadata": {},
     "output_type": "display_data"
    }
   ],
   "source": [
    "y_min = min(y.min(),y_hat.min(),y_hat_ols.min())\n",
    "y_max = max(y.max(),y_hat.max(),y_hat_ols.max())\n",
    "plt.figure(figsize=(5,5))\n",
    "plt.xlim(y_min-0.1,y_max+0.1)\n",
    "plt.ylim(y_min-0.1,y_max+0.1)\n",
    "plt.scatter(y,y_hat_ols, color=\"red\")\n",
    "plt.plot([[y_min,y_min],[y_max,y_max]], \"--\", color='black')\n",
    "plt.show()"
   ]
  },
  {
   "cell_type": "code",
   "execution_count": 58,
   "metadata": {},
   "outputs": [
    {
     "data": {
      "image/png": "[encoded data removed]",
      "text/plain": [
       "<Figure size 640x480 with 1 Axes>"
      ]
     },
     "metadata": {},
     "output_type": "display_data"
    }
   ],
   "source": [
    "plt.plot(y)\n",
    "plt.plot(y_hat, '--')\n",
    "plt.show()"
   ]
  },
  {
   "cell_type": "code",
   "execution_count": 59,
   "metadata": {},
   "outputs": [
    {
     "data": {
      "image/png": "[encoded data removed]",
      "text/plain": [
       "<Figure size 640x480 with 1 Axes>"
      ]
     },
     "metadata": {},
     "output_type": "display_data"
    }
   ],
   "source": [
    "plt.plot(y)\n",
    "plt.plot(y_hat_ols, '--', color=\"red\")\n",
    "plt.show()"
   ]
  },
  {
   "cell_type": "code",
   "execution_count": 61,
   "metadata": {},
   "outputs": [
    {
     "data": {
      "text/plain": [
       "(0.9399973044749715, 0.9741757241894593)"
      ]
     },
     "execution_count": 61,
     "metadata": {},
     "output_type": "execute_result"
    }
   ],
   "source": [
    "r2_score(y, y_hat), r2_score(y, y_hat_ols)"
   ]
  }
 ],
 "metadata": {
  "kernelspec": {
   "display_name": "locosim",
   "language": "python",
   "name": "python3"
  },
  "language_info": {
   "codemirror_mode": {
    "name": "ipython",
    "version": 3
   },
   "file_extension": ".py",
   "mimetype": "text/x-python",
   "name": "python",
   "nbconvert_exporter": "python",
   "pygments_lexer": "ipython3",
   "version": "3.11.7"
  }
 },
 "nbformat": 4,
 "nbformat_minor": 2
}
