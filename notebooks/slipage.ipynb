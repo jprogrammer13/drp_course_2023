{
 "cells": [
  {
   "cell_type": "code",
   "execution_count": 20,
   "metadata": {},
   "outputs": [],
   "source": [
    "# !pip install PyQt5"
   ]
  },
  {
   "cell_type": "code",
   "execution_count": 191,
   "metadata": {},
   "outputs": [],
   "source": [
    "import pandas as pd\n",
    "import numpy as np\n",
    "import matplotlib.pyplot as plt\n",
    "from scipy.interpolate import griddata\n",
    "%matplotlib tk"
   ]
  },
  {
   "cell_type": "code",
   "execution_count": 256,
   "metadata": {},
   "outputs": [],
   "source": [
    "# data = \"../data/ident_wheels_real_indoor.csv\"\n",
    "data = \"../data/robot_data.csv\""
   ]
  },
  {
   "cell_type": "code",
   "execution_count": 257,
   "metadata": {},
   "outputs": [],
   "source": [
    "width, height = (6,6)"
   ]
  },
  {
   "cell_type": "code",
   "execution_count": 258,
   "metadata": {},
   "outputs": [],
   "source": [
    "df = pd.read_csv(data,header=None, names=['wheel_l','wheel_r','beta_l','beta_r','alpha', 'i', 'j'])"
   ]
  },
  {
   "cell_type": "code",
   "execution_count": 259,
   "metadata": {},
   "outputs": [
    {
     "data": {
      "text/html": [
       "<div>\n",
       "<style scoped>\n",
       "    .dataframe tbody tr th:only-of-type {\n",
       "        vertical-align: middle;\n",
       "    }\n",
       "\n",
       "    .dataframe tbody tr th {\n",
       "        vertical-align: top;\n",
       "    }\n",
       "\n",
       "    .dataframe thead th {\n",
       "        text-align: right;\n",
       "    }\n",
       "</style>\n",
       "<table border=\"1\" class=\"dataframe\">\n",
       "  <thead>\n",
       "    <tr style=\"text-align: right;\">\n",
       "      <th></th>\n",
       "      <th>wheel_l</th>\n",
       "      <th>wheel_r</th>\n",
       "      <th>beta_l</th>\n",
       "      <th>beta_r</th>\n",
       "      <th>alpha</th>\n",
       "      <th>i</th>\n",
       "      <th>j</th>\n",
       "    </tr>\n",
       "  </thead>\n",
       "  <tbody>\n",
       "    <tr>\n",
       "      <th>0</th>\n",
       "      <td>27.844143</td>\n",
       "      <td>30.094377</td>\n",
       "      <td>2.123744</td>\n",
       "      <td>2.316336</td>\n",
       "      <td>0.000000</td>\n",
       "      <td>4.0</td>\n",
       "      <td>4.0</td>\n",
       "    </tr>\n",
       "    <tr>\n",
       "      <th>1</th>\n",
       "      <td>17.308715</td>\n",
       "      <td>19.559772</td>\n",
       "      <td>0.853845</td>\n",
       "      <td>1.046401</td>\n",
       "      <td>0.000000</td>\n",
       "      <td>5.0</td>\n",
       "      <td>3.0</td>\n",
       "    </tr>\n",
       "    <tr>\n",
       "      <th>2</th>\n",
       "      <td>27.380405</td>\n",
       "      <td>29.631391</td>\n",
       "      <td>2.050976</td>\n",
       "      <td>2.243630</td>\n",
       "      <td>0.000000</td>\n",
       "      <td>5.0</td>\n",
       "      <td>1.0</td>\n",
       "    </tr>\n",
       "    <tr>\n",
       "      <th>3</th>\n",
       "      <td>28.311681</td>\n",
       "      <td>30.544908</td>\n",
       "      <td>2.162921</td>\n",
       "      <td>2.354058</td>\n",
       "      <td>0.000000</td>\n",
       "      <td>4.0</td>\n",
       "      <td>0.0</td>\n",
       "    </tr>\n",
       "    <tr>\n",
       "      <th>4</th>\n",
       "      <td>27.742886</td>\n",
       "      <td>29.993280</td>\n",
       "      <td>2.094660</td>\n",
       "      <td>2.287264</td>\n",
       "      <td>0.000000</td>\n",
       "      <td>2.0</td>\n",
       "      <td>0.0</td>\n",
       "    </tr>\n",
       "    <tr>\n",
       "      <th>...</th>\n",
       "      <td>...</td>\n",
       "      <td>...</td>\n",
       "      <td>...</td>\n",
       "      <td>...</td>\n",
       "      <td>...</td>\n",
       "      <td>...</td>\n",
       "      <td>...</td>\n",
       "    </tr>\n",
       "    <tr>\n",
       "      <th>930</th>\n",
       "      <td>5.442749</td>\n",
       "      <td>7.140535</td>\n",
       "      <td>-0.008827</td>\n",
       "      <td>0.008897</td>\n",
       "      <td>-0.008557</td>\n",
       "      <td>5.0</td>\n",
       "      <td>3.0</td>\n",
       "    </tr>\n",
       "    <tr>\n",
       "      <th>931</th>\n",
       "      <td>5.444656</td>\n",
       "      <td>7.123872</td>\n",
       "      <td>-0.008613</td>\n",
       "      <td>0.008738</td>\n",
       "      <td>-0.014213</td>\n",
       "      <td>5.0</td>\n",
       "      <td>1.0</td>\n",
       "    </tr>\n",
       "    <tr>\n",
       "      <th>932</th>\n",
       "      <td>5.474039</td>\n",
       "      <td>7.185277</td>\n",
       "      <td>-0.008513</td>\n",
       "      <td>0.008928</td>\n",
       "      <td>-0.022556</td>\n",
       "      <td>3.0</td>\n",
       "      <td>0.0</td>\n",
       "    </tr>\n",
       "    <tr>\n",
       "      <th>933</th>\n",
       "      <td>5.495111</td>\n",
       "      <td>7.182798</td>\n",
       "      <td>-0.008502</td>\n",
       "      <td>0.008716</td>\n",
       "      <td>-0.019394</td>\n",
       "      <td>2.0</td>\n",
       "      <td>0.0</td>\n",
       "    </tr>\n",
       "    <tr>\n",
       "      <th>934</th>\n",
       "      <td>5.460236</td>\n",
       "      <td>7.142453</td>\n",
       "      <td>-0.008658</td>\n",
       "      <td>0.008780</td>\n",
       "      <td>-0.012793</td>\n",
       "      <td>0.0</td>\n",
       "      <td>1.0</td>\n",
       "    </tr>\n",
       "  </tbody>\n",
       "</table>\n",
       "<p>935 rows × 7 columns</p>\n",
       "</div>"
      ],
      "text/plain": [
       "       wheel_l    wheel_r    beta_l    beta_r     alpha    i    j\n",
       "0    27.844143  30.094377  2.123744  2.316336  0.000000  4.0  4.0\n",
       "1    17.308715  19.559772  0.853845  1.046401  0.000000  5.0  3.0\n",
       "2    27.380405  29.631391  2.050976  2.243630  0.000000  5.0  1.0\n",
       "3    28.311681  30.544908  2.162921  2.354058  0.000000  4.0  0.0\n",
       "4    27.742886  29.993280  2.094660  2.287264  0.000000  2.0  0.0\n",
       "..         ...        ...       ...       ...       ...  ...  ...\n",
       "930   5.442749   7.140535 -0.008827  0.008897 -0.008557  5.0  3.0\n",
       "931   5.444656   7.123872 -0.008613  0.008738 -0.014213  5.0  1.0\n",
       "932   5.474039   7.185277 -0.008513  0.008928 -0.022556  3.0  0.0\n",
       "933   5.495111   7.182798 -0.008502  0.008716 -0.019394  2.0  0.0\n",
       "934   5.460236   7.142453 -0.008658  0.008780 -0.012793  0.0  1.0\n",
       "\n",
       "[935 rows x 7 columns]"
      ]
     },
     "execution_count": 259,
     "metadata": {},
     "output_type": "execute_result"
    }
   ],
   "source": [
    "df"
   ]
  },
  {
   "cell_type": "code",
   "execution_count": 260,
   "metadata": {},
   "outputs": [],
   "source": [
    "x = df[['i','j']].values\n",
    "y = df[['beta_l','beta_r','alpha']].values"
   ]
  },
  {
   "cell_type": "code",
   "execution_count": 261,
   "metadata": {},
   "outputs": [],
   "source": [
    "def generate_grid_plot(width, height, param):\n",
    "    terrain_matrix = [[[] for j in range(width)] for i in range(height)]\n",
    "    df.apply(lambda x: terrain_matrix[int(x.i)][int(x.j)].append(x[param]), axis=1)\n",
    "\n",
    "    min_val = 0\n",
    "    max_val = 0\n",
    "\n",
    "    for i in range(height):\n",
    "        for j in range(width):\n",
    "            if len(terrain_matrix[i][j]):\n",
    "                mean = np.mean(terrain_matrix[i][j])\n",
    "            else:\n",
    "                mean = 0\n",
    "\n",
    "            if mean > max_val:\n",
    "                max_val = mean\n",
    "            \n",
    "            if mean < min_val:\n",
    "                min_val = mean\n",
    "\n",
    "            terrain_matrix[i][j] = mean\n",
    "\n",
    "    side = max(abs(min_val), abs(max_val))\n",
    "\n",
    "    plt.matshow(terrain_matrix, vmin=-side, vmax=side, cmap='bwr')\n",
    "    plt.title(param)\n",
    "    plt.colorbar()\n",
    "    plt.savefig(f'../data/{param}.jpg')\n",
    "    plt.show()\n",
    "            "
   ]
  },
  {
   "cell_type": "code",
   "execution_count": 262,
   "metadata": {},
   "outputs": [],
   "source": [
    "plt.close('all')\n",
    "generate_grid_plot(width, height, 'beta_l')\n",
    "generate_grid_plot(width, height, 'beta_r')\n",
    "generate_grid_plot(width, height, 'alpha')"
   ]
  },
  {
   "cell_type": "code",
   "execution_count": null,
   "metadata": {},
   "outputs": [],
   "source": []
  },
  {
   "cell_type": "code",
   "execution_count": 224,
   "metadata": {},
   "outputs": [],
   "source": [
    "x = df[['wheel_l','wheel_r']].values\n",
    "y = df[['beta_l','beta_r','alpha']].values"
   ]
  },
  {
   "cell_type": "code",
   "execution_count": 228,
   "metadata": {},
   "outputs": [],
   "source": [
    "fig, ax = plt.subplots(1, 5, figsize=(20, 4))\n",
    "ax[0].hist(x[..., 0])\n",
    "ax[0].set_title('wheel_l')\n",
    "ax[1].hist(x[..., 1])\n",
    "ax[1].set_title('wheel_r')\n",
    "# %% plot histogram to see if output distribution is well behaved, to see if it is neeeded a scaling\n",
    "ax[2].hist(y[..., 0])\n",
    "ax[2].set_title('beta_l')\n",
    "ax[3].hist(y[..., 1])\n",
    "ax[3].set_title('beta_r')\n",
    "ax[4].hist(y[..., 2])\n",
    "ax[4].set_title('alpha')\n",
    "plt.show()"
   ]
  },
  {
   "cell_type": "code",
   "execution_count": 9,
   "metadata": {},
   "outputs": [],
   "source": [
    "fig = plt.figure(figsize=(10, 10))\n",
    "ax = plt.axes(projection='3d')\n",
    "ax.set_xlim(-20,20)\n",
    "ax.set_ylim(-20,20)\n",
    "ax.plot([-20,20],[-20,20],[0,0], \"--\", color=\"red\")\n",
    "ax.scatter(x[..., 0], x[..., 1], y[..., 0], color='blue')\n",
    "ax.set_title('beta_l')\n",
    "ax.set_xlabel('wheel_l')\n",
    "ax.set_ylabel('wheel_r')\n",
    "plt.show()"
   ]
  },
  {
   "cell_type": "code",
   "execution_count": 10,
   "metadata": {},
   "outputs": [],
   "source": [
    "fig = plt.figure(figsize=(10, 10))\n",
    "ax = plt.axes(projection='3d')\n",
    "ax.set_xlim(-20,20)\n",
    "ax.set_ylim(-20,20)\n",
    "ax.plot([-20,20],[-20,20],[0,0], \"--\", color=\"red\")\n",
    "ax.scatter(x[..., 0], x[..., 1], y[..., 1], color='blue')\n",
    "ax.set_title('beta_r')\n",
    "ax.set_xlabel('wheel_l')\n",
    "ax.set_ylabel('wheel_r')\n",
    "plt.show()"
   ]
  },
  {
   "cell_type": "code",
   "execution_count": 225,
   "metadata": {},
   "outputs": [],
   "source": [
    "fig = plt.figure(figsize=(10, 10))\n",
    "ax = plt.axes(projection='3d')\n",
    "ax.set_xlim(-20,20)\n",
    "ax.set_ylim(-20,20)\n",
    "ax.plot([-20,20],[-20,20],[0,0], \"--\", color=\"red\")\n",
    "ax.scatter(x[..., 0], x[..., 1], y[..., 2], color='blue')\n",
    "ax.set_title('alpha')\n",
    "ax.set_xlabel('wheel_l')\n",
    "ax.set_ylabel('wheel_r')\n",
    "plt.show()"
   ]
  },
  {
   "cell_type": "code",
   "execution_count": null,
   "metadata": {},
   "outputs": [],
   "source": []
  }
 ],
 "metadata": {
  "kernelspec": {
   "display_name": "locosim",
   "language": "python",
   "name": "python3"
  },
  "language_info": {
   "codemirror_mode": {
    "name": "ipython",
    "version": 3
   },
   "file_extension": ".py",
   "mimetype": "text/x-python",
   "name": "python",
   "nbconvert_exporter": "python",
   "pygments_lexer": "ipython3",
   "version": "3.11.7"
  }
 },
 "nbformat": 4,
 "nbformat_minor": 2
}
