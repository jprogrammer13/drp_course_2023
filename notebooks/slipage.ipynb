{
 "cells": [
  {
   "cell_type": "code",
   "execution_count": 21,
   "metadata": {},
   "outputs": [],
   "source": [
    "import pandas as pd\n",
    "import numpy as np\n",
    "import matplotlib.pyplot as plt\n",
    "from scipy.interpolate import griddata\n",
    "%matplotlib tk"
   ]
  },
  {
   "cell_type": "code",
   "execution_count": 64,
   "metadata": {},
   "outputs": [],
   "source": [
    "# data = \"../data/ident_wheels_real_indoor.csv\"\n",
    "data = \"../data/robot_data.csv\""
   ]
  },
  {
   "cell_type": "code",
   "execution_count": 65,
   "metadata": {},
   "outputs": [],
   "source": [
    "width, height = (6,6)"
   ]
  },
  {
   "cell_type": "code",
   "execution_count": 66,
   "metadata": {},
   "outputs": [],
   "source": [
    "df = pd.read_csv(data,header=None, names=['wheel_l','wheel_r','beta_l','beta_r','alpha', 'i', 'j'])"
   ]
  },
  {
   "cell_type": "code",
   "execution_count": 67,
   "metadata": {},
   "outputs": [
    {
     "data": {
      "text/html": [
       "<div>\n",
       "<style scoped>\n",
       "    .dataframe tbody tr th:only-of-type {\n",
       "        vertical-align: middle;\n",
       "    }\n",
       "\n",
       "    .dataframe tbody tr th {\n",
       "        vertical-align: top;\n",
       "    }\n",
       "\n",
       "    .dataframe thead th {\n",
       "        text-align: right;\n",
       "    }\n",
       "</style>\n",
       "<table border=\"1\" class=\"dataframe\">\n",
       "  <thead>\n",
       "    <tr style=\"text-align: right;\">\n",
       "      <th></th>\n",
       "      <th>wheel_l</th>\n",
       "      <th>wheel_r</th>\n",
       "      <th>beta_l</th>\n",
       "      <th>beta_r</th>\n",
       "      <th>alpha</th>\n",
       "      <th>i</th>\n",
       "      <th>j</th>\n",
       "    </tr>\n",
       "  </thead>\n",
       "  <tbody>\n",
       "    <tr>\n",
       "      <th>0</th>\n",
       "      <td>14.047212</td>\n",
       "      <td>15.380467</td>\n",
       "      <td>0.952591</td>\n",
       "      <td>1.066610</td>\n",
       "      <td>0.000000</td>\n",
       "      <td>3.0</td>\n",
       "      <td>5.0</td>\n",
       "    </tr>\n",
       "    <tr>\n",
       "      <th>1</th>\n",
       "      <td>14.038510</td>\n",
       "      <td>15.386013</td>\n",
       "      <td>0.951847</td>\n",
       "      <td>1.067085</td>\n",
       "      <td>0.000000</td>\n",
       "      <td>3.0</td>\n",
       "      <td>5.0</td>\n",
       "    </tr>\n",
       "    <tr>\n",
       "      <th>2</th>\n",
       "      <td>14.046301</td>\n",
       "      <td>15.380468</td>\n",
       "      <td>0.952513</td>\n",
       "      <td>1.066610</td>\n",
       "      <td>0.000000</td>\n",
       "      <td>3.0</td>\n",
       "      <td>5.0</td>\n",
       "    </tr>\n",
       "    <tr>\n",
       "      <th>3</th>\n",
       "      <td>14.044396</td>\n",
       "      <td>15.382131</td>\n",
       "      <td>0.952350</td>\n",
       "      <td>1.066753</td>\n",
       "      <td>0.000000</td>\n",
       "      <td>4.0</td>\n",
       "      <td>5.0</td>\n",
       "    </tr>\n",
       "    <tr>\n",
       "      <th>4</th>\n",
       "      <td>14.042107</td>\n",
       "      <td>15.382556</td>\n",
       "      <td>0.952155</td>\n",
       "      <td>1.066789</td>\n",
       "      <td>0.000000</td>\n",
       "      <td>4.0</td>\n",
       "      <td>4.0</td>\n",
       "    </tr>\n",
       "    <tr>\n",
       "      <th>...</th>\n",
       "      <td>...</td>\n",
       "      <td>...</td>\n",
       "      <td>...</td>\n",
       "      <td>...</td>\n",
       "      <td>...</td>\n",
       "      <td>...</td>\n",
       "      <td>...</td>\n",
       "    </tr>\n",
       "    <tr>\n",
       "      <th>540</th>\n",
       "      <td>3.268923</td>\n",
       "      <td>4.276753</td>\n",
       "      <td>-0.005015</td>\n",
       "      <td>0.005061</td>\n",
       "      <td>-0.006007</td>\n",
       "      <td>4.0</td>\n",
       "      <td>4.0</td>\n",
       "    </tr>\n",
       "    <tr>\n",
       "      <th>541</th>\n",
       "      <td>3.270521</td>\n",
       "      <td>4.274327</td>\n",
       "      <td>-0.004999</td>\n",
       "      <td>0.005047</td>\n",
       "      <td>-0.005934</td>\n",
       "      <td>4.0</td>\n",
       "      <td>4.0</td>\n",
       "    </tr>\n",
       "    <tr>\n",
       "      <th>542</th>\n",
       "      <td>3.265700</td>\n",
       "      <td>4.280552</td>\n",
       "      <td>-0.005064</td>\n",
       "      <td>0.005121</td>\n",
       "      <td>-0.006069</td>\n",
       "      <td>5.0</td>\n",
       "      <td>4.0</td>\n",
       "    </tr>\n",
       "    <tr>\n",
       "      <th>543</th>\n",
       "      <td>3.270525</td>\n",
       "      <td>4.274545</td>\n",
       "      <td>-0.004997</td>\n",
       "      <td>0.005044</td>\n",
       "      <td>-0.005946</td>\n",
       "      <td>5.0</td>\n",
       "      <td>4.0</td>\n",
       "    </tr>\n",
       "    <tr>\n",
       "      <th>544</th>\n",
       "      <td>3.268852</td>\n",
       "      <td>4.276248</td>\n",
       "      <td>-0.005021</td>\n",
       "      <td>0.005072</td>\n",
       "      <td>-0.005975</td>\n",
       "      <td>5.0</td>\n",
       "      <td>3.0</td>\n",
       "    </tr>\n",
       "  </tbody>\n",
       "</table>\n",
       "<p>545 rows × 7 columns</p>\n",
       "</div>"
      ],
      "text/plain": [
       "       wheel_l    wheel_r    beta_l    beta_r     alpha    i    j\n",
       "0    14.047212  15.380467  0.952591  1.066610  0.000000  3.0  5.0\n",
       "1    14.038510  15.386013  0.951847  1.067085  0.000000  3.0  5.0\n",
       "2    14.046301  15.380468  0.952513  1.066610  0.000000  3.0  5.0\n",
       "3    14.044396  15.382131  0.952350  1.066753  0.000000  4.0  5.0\n",
       "4    14.042107  15.382556  0.952155  1.066789  0.000000  4.0  4.0\n",
       "..         ...        ...       ...       ...       ...  ...  ...\n",
       "540   3.268923   4.276753 -0.005015  0.005061 -0.006007  4.0  4.0\n",
       "541   3.270521   4.274327 -0.004999  0.005047 -0.005934  4.0  4.0\n",
       "542   3.265700   4.280552 -0.005064  0.005121 -0.006069  5.0  4.0\n",
       "543   3.270525   4.274545 -0.004997  0.005044 -0.005946  5.0  4.0\n",
       "544   3.268852   4.276248 -0.005021  0.005072 -0.005975  5.0  3.0\n",
       "\n",
       "[545 rows x 7 columns]"
      ]
     },
     "execution_count": 67,
     "metadata": {},
     "output_type": "execute_result"
    }
   ],
   "source": [
    "df"
   ]
  },
  {
   "cell_type": "code",
   "execution_count": 68,
   "metadata": {},
   "outputs": [],
   "source": [
    "x = df[['i','j']].values\n",
    "y = df[['beta_l','beta_r','alpha']].values"
   ]
  },
  {
   "cell_type": "code",
   "execution_count": 69,
   "metadata": {},
   "outputs": [],
   "source": [
    "def generate_grid_plot(width, height, param):\n",
    "    terrain_matrix = [[[] for j in range(width)] for i in range(height)]\n",
    "    df.apply(lambda x: terrain_matrix[int(x.i)][int(x.j)].append(x[param]), axis=1)\n",
    "\n",
    "    min_val = 0\n",
    "    max_val = 0\n",
    "\n",
    "    for i in range(height):\n",
    "        for j in range(width):\n",
    "            if len(terrain_matrix[i][j]):\n",
    "                mean = np.mean(terrain_matrix[i][j])\n",
    "            else:\n",
    "                mean = 0\n",
    "\n",
    "            if mean > max_val:\n",
    "                max_val = mean\n",
    "            \n",
    "            if mean < min_val:\n",
    "                min_val = mean\n",
    "\n",
    "            terrain_matrix[i][j] = mean\n",
    "\n",
    "    side = max(abs(min_val), abs(max_val))\n",
    "\n",
    "    plt.matshow(terrain_matrix, vmin=-side, vmax=side, cmap='bwr')\n",
    "    plt.title(param)\n",
    "    plt.colorbar()\n",
    "    plt.savefig(f'../data/{param}.jpg')\n",
    "    plt.show()\n",
    "            "
   ]
  },
  {
   "cell_type": "code",
   "execution_count": 70,
   "metadata": {},
   "outputs": [],
   "source": [
    "plt.close('all')\n",
    "generate_grid_plot(width, height, 'beta_l')\n",
    "generate_grid_plot(width, height, 'beta_r')\n",
    "generate_grid_plot(width, height, 'alpha')"
   ]
  },
  {
   "cell_type": "code",
   "execution_count": null,
   "metadata": {},
   "outputs": [],
   "source": []
  },
  {
   "cell_type": "code",
   "execution_count": 52,
   "metadata": {},
   "outputs": [],
   "source": [
    "x = df[['wheel_l','wheel_r']].values\n",
    "y = df[['beta_l','beta_r','alpha']].values"
   ]
  },
  {
   "cell_type": "code",
   "execution_count": 43,
   "metadata": {},
   "outputs": [],
   "source": [
    "fig, ax = plt.subplots(1, 5, figsize=(20, 4))\n",
    "ax[0].hist(x[..., 0])\n",
    "ax[0].set_title('wheel_l')\n",
    "ax[1].hist(x[..., 1])\n",
    "ax[1].set_title('wheel_r')\n",
    "# %% plot histogram to see if output distribution is well behaved, to see if it is neeeded a scaling\n",
    "ax[2].hist(y[..., 0])\n",
    "ax[2].set_title('beta_l')\n",
    "ax[3].hist(y[..., 1])\n",
    "ax[3].set_title('beta_r')\n",
    "ax[4].hist(y[..., 2])\n",
    "ax[4].set_title('alpha')\n",
    "plt.show()"
   ]
  },
  {
   "cell_type": "code",
   "execution_count": 53,
   "metadata": {},
   "outputs": [],
   "source": [
    "fig = plt.figure(figsize=(10, 10))\n",
    "ax = plt.axes(projection='3d')\n",
    "ax.set_xlim(-20,20)\n",
    "ax.set_ylim(-20,20)\n",
    "ax.plot([-20,20],[-20,20],[0,0], \"--\", color=\"red\")\n",
    "ax.scatter(x[..., 0], x[..., 1], y[..., 0], color='blue')\n",
    "ax.set_title('beta_l')\n",
    "ax.set_xlabel('wheel_l')\n",
    "ax.set_ylabel('wheel_r')\n",
    "plt.show()"
   ]
  },
  {
   "cell_type": "code",
   "execution_count": 54,
   "metadata": {},
   "outputs": [],
   "source": [
    "fig = plt.figure(figsize=(10, 10))\n",
    "ax = plt.axes(projection='3d')\n",
    "ax.set_xlim(-20,20)\n",
    "ax.set_ylim(-20,20)\n",
    "ax.plot([-20,20],[-20,20],[0,0], \"--\", color=\"red\")\n",
    "ax.scatter(x[..., 0], x[..., 1], y[..., 1], color='blue')\n",
    "ax.set_title('beta_r')\n",
    "ax.set_xlabel('wheel_l')\n",
    "ax.set_ylabel('wheel_r')\n",
    "plt.show()"
   ]
  },
  {
   "cell_type": "code",
   "execution_count": 55,
   "metadata": {},
   "outputs": [],
   "source": [
    "fig = plt.figure(figsize=(10, 10))\n",
    "ax = plt.axes(projection='3d')\n",
    "ax.set_xlim(-20,20)\n",
    "ax.set_ylim(-20,20)\n",
    "ax.plot([-20,20],[-20,20],[0,0], \"--\", color=\"red\")\n",
    "ax.scatter(x[..., 0], x[..., 1], y[..., 2], color='blue')\n",
    "ax.set_title('alpha')\n",
    "ax.set_xlabel('wheel_l')\n",
    "ax.set_ylabel('wheel_r')\n",
    "plt.show()"
   ]
  },
  {
   "cell_type": "code",
   "execution_count": 56,
   "metadata": {},
   "outputs": [],
   "source": [
    "plt.close(\"all\")"
   ]
  }
 ],
 "metadata": {
  "kernelspec": {
   "display_name": "locosim",
   "language": "python",
   "name": "python3"
  },
  "language_info": {
   "codemirror_mode": {
    "name": "ipython",
    "version": 3
   },
   "file_extension": ".py",
   "mimetype": "text/x-python",
   "name": "python",
   "nbconvert_exporter": "python",
   "pygments_lexer": "ipython3",
   "version": "3.11.7"
  }
 },
 "nbformat": 4,
 "nbformat_minor": 2
}
