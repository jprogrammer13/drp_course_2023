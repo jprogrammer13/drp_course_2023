{
 "cells": [
  {
   "cell_type": "code",
   "execution_count": 1,
   "metadata": {},
   "outputs": [],
   "source": [
    "import numpy as np\n",
    "import pandas as pd\n",
    "import matplotlib.pyplot as plt\n",
    "import os"
   ]
  },
  {
   "cell_type": "code",
   "execution_count": 2,
   "metadata": {},
   "outputs": [],
   "source": [
    "%matplotlib tk"
   ]
  },
  {
   "cell_type": "code",
   "execution_count": 3,
   "metadata": {},
   "outputs": [],
   "source": [
    "data_folder = \"data\""
   ]
  },
  {
   "cell_type": "code",
   "execution_count": 4,
   "metadata": {},
   "outputs": [],
   "source": [
    "df = pd.read_csv(os.path.join(data_folder, 'ident_wheels_sim_0.1568.csv'),header=None, names=['wheel_l','wheel_r','beta_l','beta_r','alpha'])\n",
    "df = df[(df.wheel_l <= 15) & (df.wheel_r <= 15)]"
   ]
  },
  {
   "cell_type": "code",
   "execution_count": 5,
   "metadata": {},
   "outputs": [],
   "source": [
    "v = (df.wheel_l + df.wheel_r) / 2 * 0.0856"
   ]
  },
  {
   "cell_type": "code",
   "execution_count": 6,
   "metadata": {},
   "outputs": [],
   "source": [
    "idx_filter = v > 0.01"
   ]
  },
  {
   "cell_type": "code",
   "execution_count": 7,
   "metadata": {},
   "outputs": [
    {
     "data": {
      "text/html": [
       "<div>\n",
       "<style scoped>\n",
       "    .dataframe tbody tr th:only-of-type {\n",
       "        vertical-align: middle;\n",
       "    }\n",
       "\n",
       "    .dataframe tbody tr th {\n",
       "        vertical-align: top;\n",
       "    }\n",
       "\n",
       "    .dataframe thead th {\n",
       "        text-align: right;\n",
       "    }\n",
       "</style>\n",
       "<table border=\"1\" class=\"dataframe\">\n",
       "  <thead>\n",
       "    <tr style=\"text-align: right;\">\n",
       "      <th></th>\n",
       "      <th>wheel_l</th>\n",
       "      <th>wheel_r</th>\n",
       "      <th>beta_l</th>\n",
       "      <th>beta_r</th>\n",
       "      <th>alpha</th>\n",
       "    </tr>\n",
       "  </thead>\n",
       "  <tbody>\n",
       "    <tr>\n",
       "      <th>7</th>\n",
       "      <td>-0.63636</td>\n",
       "      <td>1.90910</td>\n",
       "      <td>-0.013785</td>\n",
       "      <td>0.013780</td>\n",
       "      <td>0.014451</td>\n",
       "    </tr>\n",
       "    <tr>\n",
       "      <th>8</th>\n",
       "      <td>-0.63636</td>\n",
       "      <td>3.18180</td>\n",
       "      <td>-0.020812</td>\n",
       "      <td>0.020974</td>\n",
       "      <td>-0.025660</td>\n",
       "    </tr>\n",
       "    <tr>\n",
       "      <th>9</th>\n",
       "      <td>-0.63636</td>\n",
       "      <td>4.45450</td>\n",
       "      <td>-0.027668</td>\n",
       "      <td>0.028421</td>\n",
       "      <td>-0.059838</td>\n",
       "    </tr>\n",
       "    <tr>\n",
       "      <th>10</th>\n",
       "      <td>-0.63636</td>\n",
       "      <td>5.72730</td>\n",
       "      <td>-0.033825</td>\n",
       "      <td>0.036321</td>\n",
       "      <td>-0.100740</td>\n",
       "    </tr>\n",
       "    <tr>\n",
       "      <th>11</th>\n",
       "      <td>-0.63636</td>\n",
       "      <td>7.00000</td>\n",
       "      <td>-0.038592</td>\n",
       "      <td>0.045049</td>\n",
       "      <td>-0.148220</td>\n",
       "    </tr>\n",
       "    <tr>\n",
       "      <th>...</th>\n",
       "      <td>...</td>\n",
       "      <td>...</td>\n",
       "      <td>...</td>\n",
       "      <td>...</td>\n",
       "      <td>...</td>\n",
       "    </tr>\n",
       "    <tr>\n",
       "      <th>138</th>\n",
       "      <td>7.00000</td>\n",
       "      <td>-0.63636</td>\n",
       "      <td>0.045045</td>\n",
       "      <td>-0.038582</td>\n",
       "      <td>0.148610</td>\n",
       "    </tr>\n",
       "    <tr>\n",
       "      <th>139</th>\n",
       "      <td>7.00000</td>\n",
       "      <td>-1.90910</td>\n",
       "      <td>0.053849</td>\n",
       "      <td>-0.044724</td>\n",
       "      <td>0.200140</td>\n",
       "    </tr>\n",
       "    <tr>\n",
       "      <th>140</th>\n",
       "      <td>7.00000</td>\n",
       "      <td>-3.18180</td>\n",
       "      <td>0.062444</td>\n",
       "      <td>-0.050748</td>\n",
       "      <td>0.257200</td>\n",
       "    </tr>\n",
       "    <tr>\n",
       "      <th>141</th>\n",
       "      <td>7.00000</td>\n",
       "      <td>-4.45450</td>\n",
       "      <td>0.070124</td>\n",
       "      <td>-0.057722</td>\n",
       "      <td>0.325410</td>\n",
       "    </tr>\n",
       "    <tr>\n",
       "      <th>142</th>\n",
       "      <td>7.00000</td>\n",
       "      <td>-5.72730</td>\n",
       "      <td>0.075913</td>\n",
       "      <td>-0.066552</td>\n",
       "      <td>0.387670</td>\n",
       "    </tr>\n",
       "  </tbody>\n",
       "</table>\n",
       "<p>66 rows × 5 columns</p>\n",
       "</div>"
      ],
      "text/plain": [
       "     wheel_l  wheel_r    beta_l    beta_r     alpha\n",
       "7   -0.63636  1.90910 -0.013785  0.013780  0.014451\n",
       "8   -0.63636  3.18180 -0.020812  0.020974 -0.025660\n",
       "9   -0.63636  4.45450 -0.027668  0.028421 -0.059838\n",
       "10  -0.63636  5.72730 -0.033825  0.036321 -0.100740\n",
       "11  -0.63636  7.00000 -0.038592  0.045049 -0.148220\n",
       "..       ...      ...       ...       ...       ...\n",
       "138  7.00000 -0.63636  0.045045 -0.038582  0.148610\n",
       "139  7.00000 -1.90910  0.053849 -0.044724  0.200140\n",
       "140  7.00000 -3.18180  0.062444 -0.050748  0.257200\n",
       "141  7.00000 -4.45450  0.070124 -0.057722  0.325410\n",
       "142  7.00000 -5.72730  0.075913 -0.066552  0.387670\n",
       "\n",
       "[66 rows x 5 columns]"
      ]
     },
     "execution_count": 7,
     "metadata": {},
     "output_type": "execute_result"
    }
   ],
   "source": [
    "filtered = df[idx_filter]\n",
    "filtered"
   ]
  },
  {
   "cell_type": "code",
   "execution_count": 8,
   "metadata": {},
   "outputs": [],
   "source": [
    "idx_filter = (filtered.wheel_l > 0) & (filtered.wheel_r > 0)"
   ]
  },
  {
   "cell_type": "code",
   "execution_count": 9,
   "metadata": {},
   "outputs": [],
   "source": [
    "filtered = filtered[idx_filter]"
   ]
  },
  {
   "cell_type": "code",
   "execution_count": 10,
   "metadata": {},
   "outputs": [],
   "source": [
    "omega_l = filtered.wheel_l.values\n",
    "omega_r = filtered.wheel_r.values\n",
    "beta_l = filtered.beta_l.values\n",
    "beta_r = filtered.beta_r.values\n",
    "alpha = filtered.alpha.values"
   ]
  },
  {
   "cell_type": "code",
   "execution_count": 11,
   "metadata": {},
   "outputs": [],
   "source": [
    "omega_l_grid, omega_r_grid = np.meshgrid(np.linspace(omega_l.min(), omega_l.max(), 100),\n",
    "                                                 np.linspace(omega_r.min(), omega_r.max(), 100))"
   ]
  },
  {
   "cell_type": "code",
   "execution_count": 12,
   "metadata": {},
   "outputs": [],
   "source": [
    "plt.close(\"all\")"
   ]
  },
  {
   "cell_type": "code",
   "execution_count": 13,
   "metadata": {},
   "outputs": [],
   "source": [
    "fig = plt.figure(figsize=(10, 10))\n",
    "ax = plt.axes(projection='3d')\n",
    "ax.plot_trisurf(omega_l, omega_r, beta_l, cmap='viridis')\n",
    "ax.set_xlabel('wheel_l')\n",
    "ax.set_ylabel('wheel_r')\n",
    "ax.set_zlabel(\"beta_l\")\n",
    "plt.show()"
   ]
  },
  {
   "cell_type": "code",
   "execution_count": 14,
   "metadata": {},
   "outputs": [],
   "source": [
    "fig = plt.figure(figsize=(10, 10))\n",
    "ax = plt.axes(projection='3d')\n",
    "ax.plot_trisurf(omega_l, omega_r, beta_r, cmap='viridis')\n",
    "ax.set_xlabel('wheel_l')\n",
    "ax.set_ylabel('wheel_r')\n",
    "ax.set_zlabel(\"beta_r\")\n",
    "plt.show()"
   ]
  },
  {
   "cell_type": "code",
   "execution_count": 15,
   "metadata": {},
   "outputs": [],
   "source": [
    "fig = plt.figure(figsize=(10, 10))\n",
    "ax = plt.axes(projection='3d')\n",
    "ax.plot_trisurf(omega_l, omega_r, alpha, cmap='viridis')\n",
    "ax.set_xlabel('wheel_l')\n",
    "ax.set_ylabel('wheel_r')\n",
    "ax.set_zlabel(\"alpha\")\n",
    "plt.show()"
   ]
  },
  {
   "cell_type": "code",
   "execution_count": 16,
   "metadata": {},
   "outputs": [],
   "source": [
    "filtered.to_csv(f\"{data_folder}/1568.csv\")"
   ]
  },
  {
   "cell_type": "code",
   "execution_count": 28,
   "metadata": {},
   "outputs": [],
   "source": [
    "df = pd.read_csv(os.path.join(data_folder, 'ident_wheels_sim_0.1.csv'),header=None, names=['wheel_l','wheel_r','beta_l','beta_r','alpha'])\n",
    "df = df[(df.wheel_l <= 10) & (df.wheel_r <= 10)]"
   ]
  },
  {
   "cell_type": "code",
   "execution_count": 29,
   "metadata": {},
   "outputs": [],
   "source": [
    "v = (df.wheel_l + df.wheel_r) / 2 * 0.0856"
   ]
  },
  {
   "cell_type": "code",
   "execution_count": 30,
   "metadata": {},
   "outputs": [],
   "source": [
    "idx_filter = v > 0.01"
   ]
  },
  {
   "cell_type": "code",
   "execution_count": 31,
   "metadata": {},
   "outputs": [
    {
     "data": {
      "text/html": [
       "<div>\n",
       "<style scoped>\n",
       "    .dataframe tbody tr th:only-of-type {\n",
       "        vertical-align: middle;\n",
       "    }\n",
       "\n",
       "    .dataframe tbody tr th {\n",
       "        vertical-align: top;\n",
       "    }\n",
       "\n",
       "    .dataframe thead th {\n",
       "        text-align: right;\n",
       "    }\n",
       "</style>\n",
       "<table border=\"1\" class=\"dataframe\">\n",
       "  <thead>\n",
       "    <tr style=\"text-align: right;\">\n",
       "      <th></th>\n",
       "      <th>wheel_l</th>\n",
       "      <th>wheel_r</th>\n",
       "      <th>beta_l</th>\n",
       "      <th>beta_r</th>\n",
       "      <th>alpha</th>\n",
       "    </tr>\n",
       "  </thead>\n",
       "  <tbody>\n",
       "    <tr>\n",
       "      <th>0</th>\n",
       "      <td>-1.0870</td>\n",
       "      <td>-25.000</td>\n",
       "      <td>-0.064900</td>\n",
       "      <td>-1.23410</td>\n",
       "      <td>3.6548</td>\n",
       "    </tr>\n",
       "    <tr>\n",
       "      <th>1</th>\n",
       "      <td>-1.0870</td>\n",
       "      <td>-22.826</td>\n",
       "      <td>-0.448090</td>\n",
       "      <td>-1.18020</td>\n",
       "      <td>4.1792</td>\n",
       "    </tr>\n",
       "    <tr>\n",
       "      <th>2</th>\n",
       "      <td>-1.0870</td>\n",
       "      <td>-20.652</td>\n",
       "      <td>-0.393810</td>\n",
       "      <td>-0.97537</td>\n",
       "      <td>4.1731</td>\n",
       "    </tr>\n",
       "    <tr>\n",
       "      <th>3</th>\n",
       "      <td>-1.0870</td>\n",
       "      <td>-18.478</td>\n",
       "      <td>-0.315230</td>\n",
       "      <td>-0.75049</td>\n",
       "      <td>4.0791</td>\n",
       "    </tr>\n",
       "    <tr>\n",
       "      <th>4</th>\n",
       "      <td>-1.0870</td>\n",
       "      <td>-16.304</td>\n",
       "      <td>-0.227050</td>\n",
       "      <td>-0.53091</td>\n",
       "      <td>3.9595</td>\n",
       "    </tr>\n",
       "    <tr>\n",
       "      <th>...</th>\n",
       "      <td>...</td>\n",
       "      <td>...</td>\n",
       "      <td>...</td>\n",
       "      <td>...</td>\n",
       "      <td>...</td>\n",
       "    </tr>\n",
       "    <tr>\n",
       "      <th>571</th>\n",
       "      <td>9.7826</td>\n",
       "      <td>-16.304</td>\n",
       "      <td>-0.016058</td>\n",
       "      <td>-0.44010</td>\n",
       "      <td>4.3458</td>\n",
       "    </tr>\n",
       "    <tr>\n",
       "      <th>572</th>\n",
       "      <td>9.7826</td>\n",
       "      <td>-18.478</td>\n",
       "      <td>-0.052222</td>\n",
       "      <td>-0.58954</td>\n",
       "      <td>4.3903</td>\n",
       "    </tr>\n",
       "    <tr>\n",
       "      <th>573</th>\n",
       "      <td>9.7826</td>\n",
       "      <td>-20.652</td>\n",
       "      <td>-0.083679</td>\n",
       "      <td>-0.74787</td>\n",
       "      <td>4.4257</td>\n",
       "    </tr>\n",
       "    <tr>\n",
       "      <th>574</th>\n",
       "      <td>9.7826</td>\n",
       "      <td>-22.826</td>\n",
       "      <td>-0.109780</td>\n",
       "      <td>-0.91211</td>\n",
       "      <td>4.4518</td>\n",
       "    </tr>\n",
       "    <tr>\n",
       "      <th>575</th>\n",
       "      <td>9.7826</td>\n",
       "      <td>-25.000</td>\n",
       "      <td>-0.133430</td>\n",
       "      <td>-1.07970</td>\n",
       "      <td>4.4740</td>\n",
       "    </tr>\n",
       "  </tbody>\n",
       "</table>\n",
       "<p>289 rows × 5 columns</p>\n",
       "</div>"
      ],
      "text/plain": [
       "     wheel_l  wheel_r    beta_l   beta_r   alpha\n",
       "0    -1.0870  -25.000 -0.064900 -1.23410  3.6548\n",
       "1    -1.0870  -22.826 -0.448090 -1.18020  4.1792\n",
       "2    -1.0870  -20.652 -0.393810 -0.97537  4.1731\n",
       "3    -1.0870  -18.478 -0.315230 -0.75049  4.0791\n",
       "4    -1.0870  -16.304 -0.227050 -0.53091  3.9595\n",
       "..       ...      ...       ...      ...     ...\n",
       "571   9.7826  -16.304 -0.016058 -0.44010  4.3458\n",
       "572   9.7826  -18.478 -0.052222 -0.58954  4.3903\n",
       "573   9.7826  -20.652 -0.083679 -0.74787  4.4257\n",
       "574   9.7826  -22.826 -0.109780 -0.91211  4.4518\n",
       "575   9.7826  -25.000 -0.133430 -1.07970  4.4740\n",
       "\n",
       "[289 rows x 5 columns]"
      ]
     },
     "execution_count": 31,
     "metadata": {},
     "output_type": "execute_result"
    }
   ],
   "source": [
    "# filtered = df[idx_filter]\n",
    "filtered = df\n",
    "filtered"
   ]
  },
  {
   "cell_type": "code",
   "execution_count": 32,
   "metadata": {},
   "outputs": [],
   "source": [
    "idx_filter = (filtered.wheel_l > 0) & (filtered.wheel_r > 0)"
   ]
  },
  {
   "cell_type": "code",
   "execution_count": 33,
   "metadata": {},
   "outputs": [],
   "source": [
    "filtered = filtered[idx_filter]"
   ]
  },
  {
   "cell_type": "code",
   "execution_count": 34,
   "metadata": {},
   "outputs": [],
   "source": [
    "omega_l = filtered.wheel_l.values\n",
    "omega_r = filtered.wheel_r.values\n",
    "beta_l = filtered.beta_l.values\n",
    "beta_r = filtered.beta_r.values\n",
    "alpha = filtered.alpha.values"
   ]
  },
  {
   "cell_type": "code",
   "execution_count": 35,
   "metadata": {},
   "outputs": [],
   "source": [
    "omega_l_grid, omega_r_grid = np.meshgrid(np.linspace(omega_l.min(), omega_l.max(), 100),\n",
    "                                                 np.linspace(omega_r.min(), omega_r.max(), 100))"
   ]
  },
  {
   "cell_type": "code",
   "execution_count": 36,
   "metadata": {},
   "outputs": [],
   "source": [
    "plt.close(\"all\")"
   ]
  },
  {
   "cell_type": "code",
   "execution_count": 37,
   "metadata": {},
   "outputs": [],
   "source": [
    "fig = plt.figure(figsize=(10, 10))\n",
    "ax = plt.axes(projection='3d')\n",
    "ax.plot_trisurf(omega_l, omega_r, beta_l, cmap='viridis')\n",
    "ax.set_xlabel('wheel_l')\n",
    "ax.set_ylabel('wheel_r')\n",
    "ax.set_zlabel(\"beta_l\")\n",
    "plt.show()"
   ]
  },
  {
   "cell_type": "code",
   "execution_count": 38,
   "metadata": {},
   "outputs": [],
   "source": [
    "fig = plt.figure(figsize=(10, 10))\n",
    "ax = plt.axes(projection='3d')\n",
    "ax.plot_trisurf(omega_l, omega_r, beta_r, cmap='viridis')\n",
    "ax.set_xlabel('wheel_l')\n",
    "ax.set_ylabel('wheel_r')\n",
    "ax.set_zlabel(\"beta_r\")\n",
    "plt.show()"
   ]
  },
  {
   "cell_type": "code",
   "execution_count": 39,
   "metadata": {},
   "outputs": [],
   "source": [
    "fig = plt.figure(figsize=(10, 10))\n",
    "ax = plt.axes(projection='3d')\n",
    "ax.plot_trisurf(omega_l, omega_r, alpha, cmap='viridis')\n",
    "ax.set_xlabel('wheel_l')\n",
    "ax.set_ylabel('wheel_r')\n",
    "ax.set_zlabel(\"alpha\")\n",
    "plt.show()"
   ]
  },
  {
   "cell_type": "code",
   "execution_count": 97,
   "metadata": {},
   "outputs": [],
   "source": [
    "filtered.to_csv(f\"{data_folder}/1.csv\")"
   ]
  },
  {
   "cell_type": "code",
   "execution_count": 30,
   "metadata": {},
   "outputs": [],
   "source": [
    "df = pd.read_csv(os.path.join(data_folder, 'ident_wheels_sim_0.09041.csv'),header=None, names=['wheel_l','wheel_r','beta_l','beta_r','alpha'])"
   ]
  },
  {
   "cell_type": "code",
   "execution_count": 31,
   "metadata": {},
   "outputs": [],
   "source": [
    "v = (df.wheel_l + df.wheel_r) / 2 * 0.0856"
   ]
  },
  {
   "cell_type": "code",
   "execution_count": 32,
   "metadata": {},
   "outputs": [],
   "source": [
    "idx_filter = v > 0.01"
   ]
  },
  {
   "cell_type": "code",
   "execution_count": 33,
   "metadata": {},
   "outputs": [
    {
     "data": {
      "text/html": [
       "<div>\n",
       "<style scoped>\n",
       "    .dataframe tbody tr th:only-of-type {\n",
       "        vertical-align: middle;\n",
       "    }\n",
       "\n",
       "    .dataframe tbody tr th {\n",
       "        vertical-align: top;\n",
       "    }\n",
       "\n",
       "    .dataframe thead th {\n",
       "        text-align: right;\n",
       "    }\n",
       "</style>\n",
       "<table border=\"1\" class=\"dataframe\">\n",
       "  <thead>\n",
       "    <tr style=\"text-align: right;\">\n",
       "      <th></th>\n",
       "      <th>wheel_l</th>\n",
       "      <th>wheel_r</th>\n",
       "      <th>beta_l</th>\n",
       "      <th>beta_r</th>\n",
       "      <th>alpha</th>\n",
       "    </tr>\n",
       "  </thead>\n",
       "  <tbody>\n",
       "    <tr>\n",
       "      <th>7</th>\n",
       "      <td>-0.63636</td>\n",
       "      <td>1.90910</td>\n",
       "      <td>-0.022239</td>\n",
       "      <td>0.022228</td>\n",
       "      <td>0.016933</td>\n",
       "    </tr>\n",
       "    <tr>\n",
       "      <th>8</th>\n",
       "      <td>-0.63636</td>\n",
       "      <td>3.18180</td>\n",
       "      <td>-0.022846</td>\n",
       "      <td>0.022836</td>\n",
       "      <td>0.005945</td>\n",
       "    </tr>\n",
       "    <tr>\n",
       "      <th>9</th>\n",
       "      <td>-0.63636</td>\n",
       "      <td>4.45450</td>\n",
       "      <td>-0.028148</td>\n",
       "      <td>0.028177</td>\n",
       "      <td>-0.006944</td>\n",
       "    </tr>\n",
       "    <tr>\n",
       "      <th>10</th>\n",
       "      <td>-0.63636</td>\n",
       "      <td>5.72730</td>\n",
       "      <td>-0.035258</td>\n",
       "      <td>0.035365</td>\n",
       "      <td>-0.017895</td>\n",
       "    </tr>\n",
       "    <tr>\n",
       "      <th>11</th>\n",
       "      <td>-0.63636</td>\n",
       "      <td>7.00000</td>\n",
       "      <td>-0.042352</td>\n",
       "      <td>0.042627</td>\n",
       "      <td>-0.028374</td>\n",
       "    </tr>\n",
       "    <tr>\n",
       "      <th>...</th>\n",
       "      <td>...</td>\n",
       "      <td>...</td>\n",
       "      <td>...</td>\n",
       "      <td>...</td>\n",
       "      <td>...</td>\n",
       "    </tr>\n",
       "    <tr>\n",
       "      <th>138</th>\n",
       "      <td>7.00000</td>\n",
       "      <td>-0.63636</td>\n",
       "      <td>0.042627</td>\n",
       "      <td>-0.042352</td>\n",
       "      <td>0.028374</td>\n",
       "    </tr>\n",
       "    <tr>\n",
       "      <th>139</th>\n",
       "      <td>7.00000</td>\n",
       "      <td>-1.90910</td>\n",
       "      <td>0.049829</td>\n",
       "      <td>-0.049378</td>\n",
       "      <td>0.039153</td>\n",
       "    </tr>\n",
       "    <tr>\n",
       "      <th>140</th>\n",
       "      <td>7.00000</td>\n",
       "      <td>-3.18180</td>\n",
       "      <td>0.057094</td>\n",
       "      <td>-0.056626</td>\n",
       "      <td>0.048189</td>\n",
       "    </tr>\n",
       "    <tr>\n",
       "      <th>141</th>\n",
       "      <td>7.00000</td>\n",
       "      <td>-4.45450</td>\n",
       "      <td>0.064294</td>\n",
       "      <td>-0.063829</td>\n",
       "      <td>0.058677</td>\n",
       "    </tr>\n",
       "    <tr>\n",
       "      <th>142</th>\n",
       "      <td>7.00000</td>\n",
       "      <td>-5.72730</td>\n",
       "      <td>0.071396</td>\n",
       "      <td>-0.071028</td>\n",
       "      <td>0.070658</td>\n",
       "    </tr>\n",
       "  </tbody>\n",
       "</table>\n",
       "<p>66 rows × 5 columns</p>\n",
       "</div>"
      ],
      "text/plain": [
       "     wheel_l  wheel_r    beta_l    beta_r     alpha\n",
       "7   -0.63636  1.90910 -0.022239  0.022228  0.016933\n",
       "8   -0.63636  3.18180 -0.022846  0.022836  0.005945\n",
       "9   -0.63636  4.45450 -0.028148  0.028177 -0.006944\n",
       "10  -0.63636  5.72730 -0.035258  0.035365 -0.017895\n",
       "11  -0.63636  7.00000 -0.042352  0.042627 -0.028374\n",
       "..       ...      ...       ...       ...       ...\n",
       "138  7.00000 -0.63636  0.042627 -0.042352  0.028374\n",
       "139  7.00000 -1.90910  0.049829 -0.049378  0.039153\n",
       "140  7.00000 -3.18180  0.057094 -0.056626  0.048189\n",
       "141  7.00000 -4.45450  0.064294 -0.063829  0.058677\n",
       "142  7.00000 -5.72730  0.071396 -0.071028  0.070658\n",
       "\n",
       "[66 rows x 5 columns]"
      ]
     },
     "execution_count": 33,
     "metadata": {},
     "output_type": "execute_result"
    }
   ],
   "source": [
    "filtered = df[idx_filter]\n",
    "filtered"
   ]
  },
  {
   "cell_type": "code",
   "execution_count": 34,
   "metadata": {},
   "outputs": [],
   "source": [
    "idx_filter = (filtered.wheel_l > 0) & (filtered.wheel_r > 0)"
   ]
  },
  {
   "cell_type": "code",
   "execution_count": 35,
   "metadata": {},
   "outputs": [],
   "source": [
    "filtered = filtered[idx_filter]"
   ]
  },
  {
   "cell_type": "code",
   "execution_count": 36,
   "metadata": {},
   "outputs": [],
   "source": [
    "omega_l = filtered.wheel_l.values\n",
    "omega_r = filtered.wheel_r.values\n",
    "beta_l = filtered.beta_l.values\n",
    "beta_r = filtered.beta_r.values\n",
    "alpha = filtered.alpha.values"
   ]
  },
  {
   "cell_type": "code",
   "execution_count": 37,
   "metadata": {},
   "outputs": [],
   "source": [
    "omega_l_grid, omega_r_grid = np.meshgrid(np.linspace(omega_l.min(), omega_l.max(), 100),\n",
    "                                                 np.linspace(omega_r.min(), omega_r.max(), 100))"
   ]
  },
  {
   "cell_type": "code",
   "execution_count": 38,
   "metadata": {},
   "outputs": [],
   "source": [
    "plt.close(\"all\")"
   ]
  },
  {
   "cell_type": "code",
   "execution_count": 39,
   "metadata": {},
   "outputs": [],
   "source": [
    "fig = plt.figure(figsize=(10, 10))\n",
    "ax = plt.axes(projection='3d')\n",
    "ax.plot_trisurf(omega_l, omega_r, beta_l, cmap='viridis')\n",
    "ax.set_xlabel('wheel_l')\n",
    "ax.set_ylabel('wheel_r')\n",
    "ax.set_zlabel(\"beta_l\")\n",
    "plt.show()"
   ]
  },
  {
   "cell_type": "code",
   "execution_count": 40,
   "metadata": {},
   "outputs": [],
   "source": [
    "fig = plt.figure(figsize=(10, 10))\n",
    "ax = plt.axes(projection='3d')\n",
    "ax.plot_trisurf(omega_l, omega_r, beta_r, cmap='viridis')\n",
    "ax.set_xlabel('wheel_l')\n",
    "ax.set_ylabel('wheel_r')\n",
    "ax.set_zlabel(\"beta_r\")\n",
    "plt.show()"
   ]
  },
  {
   "cell_type": "code",
   "execution_count": 41,
   "metadata": {},
   "outputs": [],
   "source": [
    "fig = plt.figure(figsize=(10, 10))\n",
    "ax = plt.axes(projection='3d')\n",
    "ax.plot_trisurf(omega_l, omega_r, alpha, cmap='viridis')\n",
    "ax.set_xlabel('wheel_l')\n",
    "ax.set_ylabel('wheel_r')\n",
    "ax.set_zlabel(\"alpha\")\n",
    "plt.show()"
   ]
  },
  {
   "cell_type": "code",
   "execution_count": 42,
   "metadata": {},
   "outputs": [],
   "source": [
    "filtered.to_csv(f\"{data_folder}/09041.csv\")"
   ]
  },
  {
   "cell_type": "code",
   "execution_count": 43,
   "metadata": {},
   "outputs": [],
   "source": [
    "df = pd.read_csv(os.path.join(data_folder, 'ident_wheels_sim_0.13349.csv'),header=None, names=['wheel_l','wheel_r','beta_l','beta_r','alpha'])"
   ]
  },
  {
   "cell_type": "code",
   "execution_count": null,
   "metadata": {},
   "outputs": [],
   "source": []
  },
  {
   "cell_type": "code",
   "execution_count": 44,
   "metadata": {},
   "outputs": [],
   "source": [
    "v = (df.wheel_l + df.wheel_r) / 2 * 0.0856"
   ]
  },
  {
   "cell_type": "code",
   "execution_count": 45,
   "metadata": {},
   "outputs": [],
   "source": [
    "idx_filter = v > 0.01"
   ]
  },
  {
   "cell_type": "code",
   "execution_count": 46,
   "metadata": {},
   "outputs": [
    {
     "data": {
      "text/html": [
       "<div>\n",
       "<style scoped>\n",
       "    .dataframe tbody tr th:only-of-type {\n",
       "        vertical-align: middle;\n",
       "    }\n",
       "\n",
       "    .dataframe tbody tr th {\n",
       "        vertical-align: top;\n",
       "    }\n",
       "\n",
       "    .dataframe thead th {\n",
       "        text-align: right;\n",
       "    }\n",
       "</style>\n",
       "<table border=\"1\" class=\"dataframe\">\n",
       "  <thead>\n",
       "    <tr style=\"text-align: right;\">\n",
       "      <th></th>\n",
       "      <th>wheel_l</th>\n",
       "      <th>wheel_r</th>\n",
       "      <th>beta_l</th>\n",
       "      <th>beta_r</th>\n",
       "      <th>alpha</th>\n",
       "    </tr>\n",
       "  </thead>\n",
       "  <tbody>\n",
       "    <tr>\n",
       "      <th>7</th>\n",
       "      <td>-0.63636</td>\n",
       "      <td>1.90910</td>\n",
       "      <td>-0.013788</td>\n",
       "      <td>0.013786</td>\n",
       "      <td>0.011585</td>\n",
       "    </tr>\n",
       "    <tr>\n",
       "      <th>8</th>\n",
       "      <td>-0.63636</td>\n",
       "      <td>3.18180</td>\n",
       "      <td>-0.020801</td>\n",
       "      <td>0.021012</td>\n",
       "      <td>-0.031838</td>\n",
       "    </tr>\n",
       "    <tr>\n",
       "      <th>9</th>\n",
       "      <td>-0.63636</td>\n",
       "      <td>4.45450</td>\n",
       "      <td>-0.027542</td>\n",
       "      <td>0.028555</td>\n",
       "      <td>-0.071265</td>\n",
       "    </tr>\n",
       "    <tr>\n",
       "      <th>10</th>\n",
       "      <td>-0.63636</td>\n",
       "      <td>5.72730</td>\n",
       "      <td>-0.033210</td>\n",
       "      <td>0.036655</td>\n",
       "      <td>-0.117400</td>\n",
       "    </tr>\n",
       "    <tr>\n",
       "      <th>11</th>\n",
       "      <td>-0.63636</td>\n",
       "      <td>7.00000</td>\n",
       "      <td>-0.037361</td>\n",
       "      <td>0.046032</td>\n",
       "      <td>-0.172350</td>\n",
       "    </tr>\n",
       "    <tr>\n",
       "      <th>...</th>\n",
       "      <td>...</td>\n",
       "      <td>...</td>\n",
       "      <td>...</td>\n",
       "      <td>...</td>\n",
       "      <td>...</td>\n",
       "    </tr>\n",
       "    <tr>\n",
       "      <th>138</th>\n",
       "      <td>7.00000</td>\n",
       "      <td>-0.63636</td>\n",
       "      <td>0.045960</td>\n",
       "      <td>-0.037356</td>\n",
       "      <td>0.173320</td>\n",
       "    </tr>\n",
       "    <tr>\n",
       "      <th>139</th>\n",
       "      <td>7.00000</td>\n",
       "      <td>-1.90910</td>\n",
       "      <td>0.055365</td>\n",
       "      <td>-0.042640</td>\n",
       "      <td>0.234640</td>\n",
       "    </tr>\n",
       "    <tr>\n",
       "      <th>140</th>\n",
       "      <td>7.00000</td>\n",
       "      <td>-3.18180</td>\n",
       "      <td>0.064489</td>\n",
       "      <td>-0.048750</td>\n",
       "      <td>0.300900</td>\n",
       "    </tr>\n",
       "    <tr>\n",
       "      <th>141</th>\n",
       "      <td>7.00000</td>\n",
       "      <td>-4.45450</td>\n",
       "      <td>0.072354</td>\n",
       "      <td>-0.055895</td>\n",
       "      <td>0.378160</td>\n",
       "    </tr>\n",
       "    <tr>\n",
       "      <th>142</th>\n",
       "      <td>7.00000</td>\n",
       "      <td>-5.72730</td>\n",
       "      <td>0.077487</td>\n",
       "      <td>-0.065401</td>\n",
       "      <td>0.452760</td>\n",
       "    </tr>\n",
       "  </tbody>\n",
       "</table>\n",
       "<p>66 rows × 5 columns</p>\n",
       "</div>"
      ],
      "text/plain": [
       "     wheel_l  wheel_r    beta_l    beta_r     alpha\n",
       "7   -0.63636  1.90910 -0.013788  0.013786  0.011585\n",
       "8   -0.63636  3.18180 -0.020801  0.021012 -0.031838\n",
       "9   -0.63636  4.45450 -0.027542  0.028555 -0.071265\n",
       "10  -0.63636  5.72730 -0.033210  0.036655 -0.117400\n",
       "11  -0.63636  7.00000 -0.037361  0.046032 -0.172350\n",
       "..       ...      ...       ...       ...       ...\n",
       "138  7.00000 -0.63636  0.045960 -0.037356  0.173320\n",
       "139  7.00000 -1.90910  0.055365 -0.042640  0.234640\n",
       "140  7.00000 -3.18180  0.064489 -0.048750  0.300900\n",
       "141  7.00000 -4.45450  0.072354 -0.055895  0.378160\n",
       "142  7.00000 -5.72730  0.077487 -0.065401  0.452760\n",
       "\n",
       "[66 rows x 5 columns]"
      ]
     },
     "execution_count": 46,
     "metadata": {},
     "output_type": "execute_result"
    }
   ],
   "source": [
    "filtered = df[idx_filter]\n",
    "filtered"
   ]
  },
  {
   "cell_type": "code",
   "execution_count": 47,
   "metadata": {},
   "outputs": [],
   "source": [
    "idx_filter = (filtered.wheel_l > 0) & (filtered.wheel_r > 0)"
   ]
  },
  {
   "cell_type": "code",
   "execution_count": 48,
   "metadata": {},
   "outputs": [],
   "source": [
    "filtered = filtered[idx_filter]"
   ]
  },
  {
   "cell_type": "code",
   "execution_count": 49,
   "metadata": {},
   "outputs": [],
   "source": [
    "omega_l = filtered.wheel_l.values\n",
    "omega_r = filtered.wheel_r.values\n",
    "beta_l = filtered.beta_l.values\n",
    "beta_r = filtered.beta_r.values\n",
    "alpha = filtered.alpha.values"
   ]
  },
  {
   "cell_type": "code",
   "execution_count": 50,
   "metadata": {},
   "outputs": [],
   "source": [
    "omega_l_grid, omega_r_grid = np.meshgrid(np.linspace(omega_l.min(), omega_l.max(), 100),\n",
    "                                                 np.linspace(omega_r.min(), omega_r.max(), 100))"
   ]
  },
  {
   "cell_type": "code",
   "execution_count": 51,
   "metadata": {},
   "outputs": [
    {
     "name": "stderr",
     "output_type": "stream",
     "text": [
      "invalid command name \"129438989352768process_stream_events\"\n",
      "    while executing\n",
      "\"129438989352768process_stream_events\"\n",
      "    (\"after\" script)\n"
     ]
    }
   ],
   "source": [
    "plt.close(\"all\")"
   ]
  },
  {
   "cell_type": "code",
   "execution_count": 52,
   "metadata": {},
   "outputs": [],
   "source": [
    "fig = plt.figure(figsize=(10, 10))\n",
    "ax = plt.axes(projection='3d')\n",
    "ax.plot_trisurf(omega_l, omega_r, beta_l, cmap='viridis')\n",
    "ax.set_xlabel('wheel_l')\n",
    "ax.set_ylabel('wheel_r')\n",
    "ax.set_zlabel(\"beta_l\")\n",
    "plt.show()"
   ]
  },
  {
   "cell_type": "code",
   "execution_count": 53,
   "metadata": {},
   "outputs": [],
   "source": [
    "fig = plt.figure(figsize=(10, 10))\n",
    "ax = plt.axes(projection='3d')\n",
    "ax.plot_trisurf(omega_l, omega_r, beta_r, cmap='viridis')\n",
    "ax.set_xlabel('wheel_l')\n",
    "ax.set_ylabel('wheel_r')\n",
    "ax.set_zlabel(\"beta_r\")\n",
    "plt.show()"
   ]
  },
  {
   "cell_type": "code",
   "execution_count": 54,
   "metadata": {},
   "outputs": [],
   "source": [
    "fig = plt.figure(figsize=(10, 10))\n",
    "ax = plt.axes(projection='3d')\n",
    "ax.plot_trisurf(omega_l, omega_r, alpha, cmap='viridis')\n",
    "ax.set_xlabel('wheel_l')\n",
    "ax.set_ylabel('wheel_r')\n",
    "ax.set_zlabel(\"alpha\")\n",
    "plt.show()"
   ]
  },
  {
   "cell_type": "code",
   "execution_count": 55,
   "metadata": {},
   "outputs": [],
   "source": [
    "filtered.to_csv(f\"{data_folder}/13349.csv\")"
   ]
  },
  {
   "cell_type": "code",
   "execution_count": null,
   "metadata": {},
   "outputs": [],
   "source": []
  }
 ],
 "metadata": {
  "kernelspec": {
   "display_name": "orbit",
   "language": "python",
   "name": "python3"
  },
  "language_info": {
   "codemirror_mode": {
    "name": "ipython",
    "version": 3
   },
   "file_extension": ".py",
   "mimetype": "text/x-python",
   "name": "python",
   "nbconvert_exporter": "python",
   "pygments_lexer": "ipython3",
   "version": "3.10.14"
  }
 },
 "nbformat": 4,
 "nbformat_minor": 2
}
