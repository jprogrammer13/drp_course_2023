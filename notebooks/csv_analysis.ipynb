{
 "cells": [
  {
   "cell_type": "code",
   "execution_count": 1,
   "metadata": {},
   "outputs": [],
   "source": [
    "import numpy as np\n",
    "import pandas as pd\n",
    "import matplotlib.pyplot as plt\n",
    "import os"
   ]
  },
  {
   "cell_type": "code",
   "execution_count": 2,
   "metadata": {},
   "outputs": [],
   "source": [
    "%matplotlib tk"
   ]
  },
  {
   "cell_type": "code",
   "execution_count": 3,
   "metadata": {},
   "outputs": [],
   "source": [
    "data_folder = \"data\""
   ]
  },
  {
   "cell_type": "code",
   "execution_count": 4,
   "metadata": {},
   "outputs": [],
   "source": [
    "df = pd.read_csv(os.path.join(data_folder, 'ident_wheels_sim_0.1568.csv'),header=None, names=['wheel_l','wheel_r','beta_l','beta_r','alpha'])"
   ]
  },
  {
   "cell_type": "code",
   "execution_count": 5,
   "metadata": {},
   "outputs": [],
   "source": [
    "v = (df.wheel_l + df.wheel_r) / 2 * 0.0856"
   ]
  },
  {
   "cell_type": "code",
   "execution_count": 6,
   "metadata": {},
   "outputs": [],
   "source": [
    "idx_filter = v > 0.01"
   ]
  },
  {
   "cell_type": "code",
   "execution_count": 7,
   "metadata": {},
   "outputs": [
    {
     "data": {
      "text/html": [
       "<div>\n",
       "<style scoped>\n",
       "    .dataframe tbody tr th:only-of-type {\n",
       "        vertical-align: middle;\n",
       "    }\n",
       "\n",
       "    .dataframe tbody tr th {\n",
       "        vertical-align: top;\n",
       "    }\n",
       "\n",
       "    .dataframe thead th {\n",
       "        text-align: right;\n",
       "    }\n",
       "</style>\n",
       "<table border=\"1\" class=\"dataframe\">\n",
       "  <thead>\n",
       "    <tr style=\"text-align: right;\">\n",
       "      <th></th>\n",
       "      <th>wheel_l</th>\n",
       "      <th>wheel_r</th>\n",
       "      <th>beta_l</th>\n",
       "      <th>beta_r</th>\n",
       "      <th>alpha</th>\n",
       "    </tr>\n",
       "  </thead>\n",
       "  <tbody>\n",
       "    <tr>\n",
       "      <th>7</th>\n",
       "      <td>-0.63636</td>\n",
       "      <td>1.90910</td>\n",
       "      <td>-0.013785</td>\n",
       "      <td>0.013780</td>\n",
       "      <td>0.014451</td>\n",
       "    </tr>\n",
       "    <tr>\n",
       "      <th>8</th>\n",
       "      <td>-0.63636</td>\n",
       "      <td>3.18180</td>\n",
       "      <td>-0.020812</td>\n",
       "      <td>0.020974</td>\n",
       "      <td>-0.025660</td>\n",
       "    </tr>\n",
       "    <tr>\n",
       "      <th>9</th>\n",
       "      <td>-0.63636</td>\n",
       "      <td>4.45450</td>\n",
       "      <td>-0.027668</td>\n",
       "      <td>0.028421</td>\n",
       "      <td>-0.059838</td>\n",
       "    </tr>\n",
       "    <tr>\n",
       "      <th>10</th>\n",
       "      <td>-0.63636</td>\n",
       "      <td>5.72730</td>\n",
       "      <td>-0.033825</td>\n",
       "      <td>0.036321</td>\n",
       "      <td>-0.100740</td>\n",
       "    </tr>\n",
       "    <tr>\n",
       "      <th>11</th>\n",
       "      <td>-0.63636</td>\n",
       "      <td>7.00000</td>\n",
       "      <td>-0.038592</td>\n",
       "      <td>0.045049</td>\n",
       "      <td>-0.148220</td>\n",
       "    </tr>\n",
       "    <tr>\n",
       "      <th>...</th>\n",
       "      <td>...</td>\n",
       "      <td>...</td>\n",
       "      <td>...</td>\n",
       "      <td>...</td>\n",
       "      <td>...</td>\n",
       "    </tr>\n",
       "    <tr>\n",
       "      <th>138</th>\n",
       "      <td>7.00000</td>\n",
       "      <td>-0.63636</td>\n",
       "      <td>0.045045</td>\n",
       "      <td>-0.038582</td>\n",
       "      <td>0.148610</td>\n",
       "    </tr>\n",
       "    <tr>\n",
       "      <th>139</th>\n",
       "      <td>7.00000</td>\n",
       "      <td>-1.90910</td>\n",
       "      <td>0.053849</td>\n",
       "      <td>-0.044724</td>\n",
       "      <td>0.200140</td>\n",
       "    </tr>\n",
       "    <tr>\n",
       "      <th>140</th>\n",
       "      <td>7.00000</td>\n",
       "      <td>-3.18180</td>\n",
       "      <td>0.062444</td>\n",
       "      <td>-0.050748</td>\n",
       "      <td>0.257200</td>\n",
       "    </tr>\n",
       "    <tr>\n",
       "      <th>141</th>\n",
       "      <td>7.00000</td>\n",
       "      <td>-4.45450</td>\n",
       "      <td>0.070124</td>\n",
       "      <td>-0.057722</td>\n",
       "      <td>0.325410</td>\n",
       "    </tr>\n",
       "    <tr>\n",
       "      <th>142</th>\n",
       "      <td>7.00000</td>\n",
       "      <td>-5.72730</td>\n",
       "      <td>0.075913</td>\n",
       "      <td>-0.066552</td>\n",
       "      <td>0.387670</td>\n",
       "    </tr>\n",
       "  </tbody>\n",
       "</table>\n",
       "<p>66 rows × 5 columns</p>\n",
       "</div>"
      ],
      "text/plain": [
       "     wheel_l  wheel_r    beta_l    beta_r     alpha\n",
       "7   -0.63636  1.90910 -0.013785  0.013780  0.014451\n",
       "8   -0.63636  3.18180 -0.020812  0.020974 -0.025660\n",
       "9   -0.63636  4.45450 -0.027668  0.028421 -0.059838\n",
       "10  -0.63636  5.72730 -0.033825  0.036321 -0.100740\n",
       "11  -0.63636  7.00000 -0.038592  0.045049 -0.148220\n",
       "..       ...      ...       ...       ...       ...\n",
       "138  7.00000 -0.63636  0.045045 -0.038582  0.148610\n",
       "139  7.00000 -1.90910  0.053849 -0.044724  0.200140\n",
       "140  7.00000 -3.18180  0.062444 -0.050748  0.257200\n",
       "141  7.00000 -4.45450  0.070124 -0.057722  0.325410\n",
       "142  7.00000 -5.72730  0.075913 -0.066552  0.387670\n",
       "\n",
       "[66 rows x 5 columns]"
      ]
     },
     "execution_count": 7,
     "metadata": {},
     "output_type": "execute_result"
    }
   ],
   "source": [
    "filtered = df[idx_filter]\n",
    "filtered"
   ]
  },
  {
   "cell_type": "code",
   "execution_count": 8,
   "metadata": {},
   "outputs": [],
   "source": [
    "idx_filter = (filtered.wheel_l > 0) & (filtered.wheel_r > 0)"
   ]
  },
  {
   "cell_type": "code",
   "execution_count": 9,
   "metadata": {},
   "outputs": [],
   "source": [
    "filtered = filtered[idx_filter]"
   ]
  },
  {
   "cell_type": "code",
   "execution_count": 10,
   "metadata": {},
   "outputs": [],
   "source": [
    "omega_l = filtered.wheel_l.values\n",
    "omega_r = filtered.wheel_r.values\n",
    "beta_l = filtered.beta_l.values\n",
    "beta_r = filtered.beta_r.values\n",
    "alpha = filtered.alpha.values"
   ]
  },
  {
   "cell_type": "code",
   "execution_count": 11,
   "metadata": {},
   "outputs": [],
   "source": [
    "omega_l_grid, omega_r_grid = np.meshgrid(np.linspace(omega_l.min(), omega_l.max(), 100),\n",
    "                                                 np.linspace(omega_r.min(), omega_r.max(), 100))"
   ]
  },
  {
   "cell_type": "code",
   "execution_count": 12,
   "metadata": {},
   "outputs": [],
   "source": [
    "plt.close(\"all\")"
   ]
  },
  {
   "cell_type": "code",
   "execution_count": 13,
   "metadata": {},
   "outputs": [],
   "source": [
    "fig = plt.figure(figsize=(10, 10))\n",
    "ax = plt.axes(projection='3d')\n",
    "ax.plot_trisurf(omega_l, omega_r, beta_l, cmap='viridis')\n",
    "ax.set_xlabel('wheel_l')\n",
    "ax.set_ylabel('wheel_r')\n",
    "ax.set_zlabel(\"beta_l\")\n",
    "plt.show()"
   ]
  },
  {
   "cell_type": "code",
   "execution_count": 14,
   "metadata": {},
   "outputs": [],
   "source": [
    "fig = plt.figure(figsize=(10, 10))\n",
    "ax = plt.axes(projection='3d')\n",
    "ax.plot_trisurf(omega_l, omega_r, beta_r, cmap='viridis')\n",
    "ax.set_xlabel('wheel_l')\n",
    "ax.set_ylabel('wheel_r')\n",
    "ax.set_zlabel(\"beta_r\")\n",
    "plt.show()"
   ]
  },
  {
   "cell_type": "code",
   "execution_count": 15,
   "metadata": {},
   "outputs": [],
   "source": [
    "fig = plt.figure(figsize=(10, 10))\n",
    "ax = plt.axes(projection='3d')\n",
    "ax.plot_trisurf(omega_l, omega_r, alpha, cmap='viridis')\n",
    "ax.set_xlabel('wheel_l')\n",
    "ax.set_ylabel('wheel_r')\n",
    "ax.set_zlabel(\"alpha\")\n",
    "plt.show()"
   ]
  }
 ],
 "metadata": {
  "kernelspec": {
   "display_name": "orbit",
   "language": "python",
   "name": "python3"
  },
  "language_info": {
   "codemirror_mode": {
    "name": "ipython",
    "version": 3
   },
   "file_extension": ".py",
   "mimetype": "text/x-python",
   "name": "python",
   "nbconvert_exporter": "python",
   "pygments_lexer": "ipython3",
   "version": "3.10.14"
  }
 },
 "nbformat": 4,
 "nbformat_minor": 2
}
