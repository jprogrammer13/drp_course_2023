{
 "cells": [
  {
   "cell_type": "code",
   "execution_count": 4,
   "metadata": {},
   "outputs": [],
   "source": [
    "import numpy as np\n",
    "import pandas as pd\n",
    "import matplotlib.pyplot as plt\n",
    "import os"
   ]
  },
  {
   "cell_type": "code",
   "execution_count": 5,
   "metadata": {},
   "outputs": [],
   "source": [
    "%matplotlib tk"
   ]
  },
  {
   "cell_type": "code",
   "execution_count": 6,
   "metadata": {},
   "outputs": [],
   "source": [
    "data_folder = \"data\""
   ]
  },
  {
   "cell_type": "code",
   "execution_count": 7,
   "metadata": {},
   "outputs": [],
   "source": [
    "df = pd.read_csv(os.path.join(data_folder, 'ident_wheels_sim_0.1.csv'),header=None, names=['wheel_l','wheel_r','beta_l','beta_r','alpha'])\n",
    "df = df[(df.wheel_l >= 1) & (df.wheel_r >= 2)]\n",
    "df = df[(df.wheel_l <= 11) & (df.wheel_r <= 11)]"
   ]
  },
  {
   "cell_type": "code",
   "execution_count": 8,
   "metadata": {},
   "outputs": [],
   "source": [
    "v = (df.wheel_l + df.wheel_r) / 2 * 0.0856"
   ]
  },
  {
   "cell_type": "code",
   "execution_count": 9,
   "metadata": {},
   "outputs": [],
   "source": [
    "idx_filter = v > 0.01"
   ]
  },
  {
   "cell_type": "code",
   "execution_count": 10,
   "metadata": {},
   "outputs": [
    {
     "data": {
      "text/html": [
       "<div>\n",
       "<style scoped>\n",
       "    .dataframe tbody tr th:only-of-type {\n",
       "        vertical-align: middle;\n",
       "    }\n",
       "\n",
       "    .dataframe tbody tr th {\n",
       "        vertical-align: top;\n",
       "    }\n",
       "\n",
       "    .dataframe thead th {\n",
       "        text-align: right;\n",
       "    }\n",
       "</style>\n",
       "<table border=\"1\" class=\"dataframe\">\n",
       "  <thead>\n",
       "    <tr style=\"text-align: right;\">\n",
       "      <th></th>\n",
       "      <th>wheel_l</th>\n",
       "      <th>wheel_r</th>\n",
       "      <th>beta_l</th>\n",
       "      <th>beta_r</th>\n",
       "      <th>alpha</th>\n",
       "    </tr>\n",
       "  </thead>\n",
       "  <tbody>\n",
       "    <tr>\n",
       "      <th>295</th>\n",
       "      <td>1.0870</td>\n",
       "      <td>9.7826</td>\n",
       "      <td>-0.015482</td>\n",
       "      <td>0.067317</td>\n",
       "      <td>-0.315180</td>\n",
       "    </tr>\n",
       "    <tr>\n",
       "      <th>296</th>\n",
       "      <td>1.0870</td>\n",
       "      <td>7.6087</td>\n",
       "      <td>-0.028014</td>\n",
       "      <td>0.040003</td>\n",
       "      <td>-0.173690</td>\n",
       "    </tr>\n",
       "    <tr>\n",
       "      <th>297</th>\n",
       "      <td>1.0870</td>\n",
       "      <td>5.4348</td>\n",
       "      <td>-0.022680</td>\n",
       "      <td>0.024398</td>\n",
       "      <td>-0.074192</td>\n",
       "    </tr>\n",
       "    <tr>\n",
       "      <th>298</th>\n",
       "      <td>1.0870</td>\n",
       "      <td>3.2609</td>\n",
       "      <td>-0.011591</td>\n",
       "      <td>0.011671</td>\n",
       "      <td>-0.012136</td>\n",
       "    </tr>\n",
       "    <tr>\n",
       "      <th>487</th>\n",
       "      <td>3.2609</td>\n",
       "      <td>9.7826</td>\n",
       "      <td>-0.020675</td>\n",
       "      <td>0.040317</td>\n",
       "      <td>-0.181540</td>\n",
       "    </tr>\n",
       "    <tr>\n",
       "      <th>488</th>\n",
       "      <td>3.2609</td>\n",
       "      <td>7.6087</td>\n",
       "      <td>-0.021537</td>\n",
       "      <td>0.024294</td>\n",
       "      <td>-0.076641</td>\n",
       "    </tr>\n",
       "    <tr>\n",
       "      <th>489</th>\n",
       "      <td>3.2609</td>\n",
       "      <td>5.4348</td>\n",
       "      <td>-0.011434</td>\n",
       "      <td>0.011593</td>\n",
       "      <td>-0.017247</td>\n",
       "    </tr>\n",
       "    <tr>\n",
       "      <th>490</th>\n",
       "      <td>3.2609</td>\n",
       "      <td>3.2609</td>\n",
       "      <td>0.000021</td>\n",
       "      <td>-0.000015</td>\n",
       "      <td>-0.000018</td>\n",
       "    </tr>\n",
       "    <tr>\n",
       "      <th>511</th>\n",
       "      <td>5.4348</td>\n",
       "      <td>9.7826</td>\n",
       "      <td>-0.019607</td>\n",
       "      <td>0.023768</td>\n",
       "      <td>-0.079202</td>\n",
       "    </tr>\n",
       "    <tr>\n",
       "      <th>512</th>\n",
       "      <td>5.4348</td>\n",
       "      <td>7.6087</td>\n",
       "      <td>-0.011299</td>\n",
       "      <td>0.011533</td>\n",
       "      <td>-0.018756</td>\n",
       "    </tr>\n",
       "    <tr>\n",
       "      <th>513</th>\n",
       "      <td>5.4348</td>\n",
       "      <td>5.4348</td>\n",
       "      <td>-0.000016</td>\n",
       "      <td>0.000020</td>\n",
       "      <td>0.000011</td>\n",
       "    </tr>\n",
       "    <tr>\n",
       "      <th>514</th>\n",
       "      <td>5.4348</td>\n",
       "      <td>3.2609</td>\n",
       "      <td>0.011594</td>\n",
       "      <td>-0.011435</td>\n",
       "      <td>0.017244</td>\n",
       "    </tr>\n",
       "    <tr>\n",
       "      <th>535</th>\n",
       "      <td>7.6087</td>\n",
       "      <td>9.7826</td>\n",
       "      <td>-0.011144</td>\n",
       "      <td>0.011363</td>\n",
       "      <td>-0.019447</td>\n",
       "    </tr>\n",
       "    <tr>\n",
       "      <th>536</th>\n",
       "      <td>7.6087</td>\n",
       "      <td>7.6087</td>\n",
       "      <td>-0.000017</td>\n",
       "      <td>0.000019</td>\n",
       "      <td>0.000008</td>\n",
       "    </tr>\n",
       "    <tr>\n",
       "      <th>537</th>\n",
       "      <td>7.6087</td>\n",
       "      <td>5.4348</td>\n",
       "      <td>0.011533</td>\n",
       "      <td>-0.011299</td>\n",
       "      <td>0.018743</td>\n",
       "    </tr>\n",
       "    <tr>\n",
       "      <th>538</th>\n",
       "      <td>7.6087</td>\n",
       "      <td>3.2609</td>\n",
       "      <td>0.024291</td>\n",
       "      <td>-0.021591</td>\n",
       "      <td>0.075967</td>\n",
       "    </tr>\n",
       "    <tr>\n",
       "      <th>559</th>\n",
       "      <td>9.7826</td>\n",
       "      <td>9.7826</td>\n",
       "      <td>0.000019</td>\n",
       "      <td>-0.000017</td>\n",
       "      <td>-0.000006</td>\n",
       "    </tr>\n",
       "    <tr>\n",
       "      <th>560</th>\n",
       "      <td>9.7826</td>\n",
       "      <td>7.6087</td>\n",
       "      <td>0.011361</td>\n",
       "      <td>-0.011146</td>\n",
       "      <td>0.019437</td>\n",
       "    </tr>\n",
       "    <tr>\n",
       "      <th>561</th>\n",
       "      <td>9.7826</td>\n",
       "      <td>5.4348</td>\n",
       "      <td>0.023778</td>\n",
       "      <td>-0.019760</td>\n",
       "      <td>0.078272</td>\n",
       "    </tr>\n",
       "    <tr>\n",
       "      <th>562</th>\n",
       "      <td>9.7826</td>\n",
       "      <td>3.2609</td>\n",
       "      <td>0.040107</td>\n",
       "      <td>-0.021864</td>\n",
       "      <td>0.175590</td>\n",
       "    </tr>\n",
       "  </tbody>\n",
       "</table>\n",
       "</div>"
      ],
      "text/plain": [
       "     wheel_l  wheel_r    beta_l    beta_r     alpha\n",
       "295   1.0870   9.7826 -0.015482  0.067317 -0.315180\n",
       "296   1.0870   7.6087 -0.028014  0.040003 -0.173690\n",
       "297   1.0870   5.4348 -0.022680  0.024398 -0.074192\n",
       "298   1.0870   3.2609 -0.011591  0.011671 -0.012136\n",
       "487   3.2609   9.7826 -0.020675  0.040317 -0.181540\n",
       "488   3.2609   7.6087 -0.021537  0.024294 -0.076641\n",
       "489   3.2609   5.4348 -0.011434  0.011593 -0.017247\n",
       "490   3.2609   3.2609  0.000021 -0.000015 -0.000018\n",
       "511   5.4348   9.7826 -0.019607  0.023768 -0.079202\n",
       "512   5.4348   7.6087 -0.011299  0.011533 -0.018756\n",
       "513   5.4348   5.4348 -0.000016  0.000020  0.000011\n",
       "514   5.4348   3.2609  0.011594 -0.011435  0.017244\n",
       "535   7.6087   9.7826 -0.011144  0.011363 -0.019447\n",
       "536   7.6087   7.6087 -0.000017  0.000019  0.000008\n",
       "537   7.6087   5.4348  0.011533 -0.011299  0.018743\n",
       "538   7.6087   3.2609  0.024291 -0.021591  0.075967\n",
       "559   9.7826   9.7826  0.000019 -0.000017 -0.000006\n",
       "560   9.7826   7.6087  0.011361 -0.011146  0.019437\n",
       "561   9.7826   5.4348  0.023778 -0.019760  0.078272\n",
       "562   9.7826   3.2609  0.040107 -0.021864  0.175590"
      ]
     },
     "execution_count": 10,
     "metadata": {},
     "output_type": "execute_result"
    }
   ],
   "source": [
    "# filtered = df[idx_filter]\n",
    "filtered = df\n",
    "filtered"
   ]
  },
  {
   "cell_type": "code",
   "execution_count": 11,
   "metadata": {},
   "outputs": [],
   "source": [
    "idx_filter = (filtered.wheel_l > 0) & (filtered.wheel_r > 0)"
   ]
  },
  {
   "cell_type": "code",
   "execution_count": 12,
   "metadata": {},
   "outputs": [],
   "source": [
    "filtered = filtered[idx_filter]"
   ]
  },
  {
   "cell_type": "code",
   "execution_count": 13,
   "metadata": {},
   "outputs": [],
   "source": [
    "omega_l = filtered.wheel_l.values\n",
    "omega_r = filtered.wheel_r.values\n",
    "beta_l = filtered.beta_l.values\n",
    "beta_r = filtered.beta_r.values\n",
    "alpha = filtered.alpha.values"
   ]
  },
  {
   "cell_type": "code",
   "execution_count": 14,
   "metadata": {},
   "outputs": [],
   "source": [
    "omega_l_grid, omega_r_grid = np.meshgrid(np.linspace(omega_l.min(), omega_l.max(), 100),\n",
    "                                                 np.linspace(omega_r.min(), omega_r.max(), 100))"
   ]
  },
  {
   "cell_type": "code",
   "execution_count": 15,
   "metadata": {},
   "outputs": [],
   "source": [
    "plt.close(\"all\")"
   ]
  },
  {
   "cell_type": "code",
   "execution_count": 16,
   "metadata": {},
   "outputs": [],
   "source": [
    "fig = plt.figure(figsize=(10, 10))\n",
    "ax = plt.axes(projection='3d')\n",
    "ax.plot_trisurf(omega_l, omega_r, beta_l, cmap='viridis')\n",
    "ax.set_xlabel('wheel_l')\n",
    "ax.set_ylabel('wheel_r')\n",
    "ax.set_zlabel(\"beta_l\")\n",
    "plt.show()"
   ]
  },
  {
   "cell_type": "code",
   "execution_count": 17,
   "metadata": {},
   "outputs": [],
   "source": [
    "fig = plt.figure(figsize=(10, 10))\n",
    "ax = plt.axes(projection='3d')\n",
    "ax.plot_trisurf(omega_l, omega_r, beta_r, cmap='viridis')\n",
    "ax.set_xlabel('wheel_l')\n",
    "ax.set_ylabel('wheel_r')\n",
    "ax.set_zlabel(\"beta_r\")\n",
    "plt.show()"
   ]
  },
  {
   "cell_type": "code",
   "execution_count": 18,
   "metadata": {},
   "outputs": [],
   "source": [
    "fig = plt.figure(figsize=(10, 10))\n",
    "ax = plt.axes(projection='3d')\n",
    "ax.plot_trisurf(omega_l, omega_r, alpha, cmap='viridis')\n",
    "ax.set_xlabel('wheel_l')\n",
    "ax.set_ylabel('wheel_r')\n",
    "ax.set_zlabel(\"alpha\")\n",
    "plt.show()"
   ]
  },
  {
   "cell_type": "code",
   "execution_count": 19,
   "metadata": {},
   "outputs": [],
   "source": [
    "filtered.to_csv(f\"{data_folder}/1.csv\")"
   ]
  },
  {
   "cell_type": "code",
   "execution_count": null,
   "metadata": {},
   "outputs": [],
   "source": []
  }
 ],
 "metadata": {
  "kernelspec": {
   "display_name": "orbit",
   "language": "python",
   "name": "python3"
  },
  "language_info": {
   "codemirror_mode": {
    "name": "ipython",
    "version": 3
   },
   "file_extension": ".py",
   "mimetype": "text/x-python",
   "name": "python",
   "nbconvert_exporter": "python",
   "pygments_lexer": "ipython3",
   "version": "3.10.14"
  }
 },
 "nbformat": 4,
 "nbformat_minor": 2
}
