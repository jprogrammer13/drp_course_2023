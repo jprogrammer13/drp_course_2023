{
 "cells": [
  {
   "cell_type": "code",
   "execution_count": 114,
   "metadata": {},
   "outputs": [],
   "source": [
    "import numpy as np\n",
    "import matplotlib.pyplot as plt"
   ]
  },
  {
   "cell_type": "code",
   "execution_count": 2,
   "metadata": {},
   "outputs": [],
   "source": [
    "class Ground():\n",
    "    def __init__(self,\n",
    "                 cohesion=0.0001040 * 1e6,\n",
    "                 K=0.001,\n",
    "                 shear_resistance_angle=20/180.*2*np.pi,\n",
    "                 mu_t=0.65,\n",
    "                 g=9.81,\n",
    "                 fr=0.6,\n",
    "                 friction_coefficient=0.1):\n",
    "        self.cohesion = cohesion  # [Pa]\n",
    "        self.K = K  # [m]\n",
    "        self.shear_resistance_angle = shear_resistance_angle  # [rad]\n",
    "        self.mu_t = mu_t\n",
    "        self.g = g\n",
    "        self.fr = fr\n",
    "        self.friction_coefficient = friction_coefficient"
   ]
  },
  {
   "cell_type": "code",
   "execution_count": 103,
   "metadata": {},
   "outputs": [],
   "source": [
    "class GroundMap:\n",
    "    def __init__(self, width=4, height=4) -> None:\n",
    "        self.width = width\n",
    "        self.height = height\n",
    "\n",
    "        # Initialize the map with Ground objects\n",
    "        self.map = [[Ground(friction_coefficient=np.random.random())\n",
    "                     for _ in range(width)] for _ in range(height)]\n",
    "\n",
    "        # Calculate the coordinate range\n",
    "        self.x_min = -width // 2\n",
    "        self.x_max = width // 2\n",
    "        self.y_min = -height // 2\n",
    "        self.y_max = height // 2\n",
    "\n",
    "        self.i_max = height - 1\n",
    "        self.j_max = width - 1\n",
    "\n",
    "    def coords_to_index(self, x, y):\n",
    "\n",
    "        if not (self.x_min <= x <= self.x_max and self.y_min <= y <= self.y_max):\n",
    "            raise ValueError(\"Coordinates are out of bounds.\")\n",
    "\n",
    "        # Convert coordinates to indices\n",
    "        grid_x = int(np.clip(x - self.x_min, 0, self.width-1))\n",
    "        grid_y = int(np.clip(self.y_max - y, 0, self.height-1))\n",
    "\n",
    "        return grid_y, grid_x\n",
    "\n",
    "    def get_ground(self, x, y):\n",
    "\n",
    "        grid_y, grid_x = self.coords_to_index(x, y)\n",
    "        return self.map[grid_y][grid_x]"
   ]
  },
  {
   "cell_type": "code",
   "execution_count": 104,
   "metadata": {},
   "outputs": [],
   "source": [
    "groundMap = GroundMap()"
   ]
  },
  {
   "cell_type": "code",
   "execution_count": 105,
   "metadata": {},
   "outputs": [
    {
     "data": {
      "text/plain": [
       "[[<__main__.Ground at 0x720a1ec3a610>,\n",
       "  <__main__.Ground at 0x720a1c5baf50>,\n",
       "  <__main__.Ground at 0x720a1c5bb5d0>,\n",
       "  <__main__.Ground at 0x720a1c5bb190>],\n",
       " [<__main__.Ground at 0x720a1c5bb310>,\n",
       "  <__main__.Ground at 0x720a1c5970d0>,\n",
       "  <__main__.Ground at 0x720a1c595250>,\n",
       "  <__main__.Ground at 0x720a1c596b10>],\n",
       " [<__main__.Ground at 0x720a1c596e50>,\n",
       "  <__main__.Ground at 0x720a1c5977d0>,\n",
       "  <__main__.Ground at 0x720a1c594450>,\n",
       "  <__main__.Ground at 0x720a1c597e10>],\n",
       " [<__main__.Ground at 0x720a1c597d90>,\n",
       "  <__main__.Ground at 0x720a1c5954d0>,\n",
       "  <__main__.Ground at 0x720a1c596490>,\n",
       "  <__main__.Ground at 0x720a1c596610>]]"
      ]
     },
     "execution_count": 105,
     "metadata": {},
     "output_type": "execute_result"
    }
   ],
   "source": [
    "groundMap.map"
   ]
  },
  {
   "cell_type": "code",
   "execution_count": 106,
   "metadata": {},
   "outputs": [
    {
     "name": "stdout",
     "output_type": "stream",
     "text": [
      "0 0 0.10227385134294398\n",
      "0 1 0.8109064187087269\n",
      "0 2 0.7677151508646592\n",
      "0 3 0.325767211451059\n",
      "1 0 0.7930763928023126\n",
      "1 1 0.22071101330402887\n",
      "1 2 0.010426674217277498\n",
      "1 3 0.3572773799738407\n",
      "2 0 0.2183459092654726\n",
      "2 1 0.05210780047997099\n",
      "2 2 0.2951721265252204\n",
      "2 3 0.11548431917759816\n",
      "3 0 0.5378085775081927\n",
      "3 1 0.47808270539292697\n",
      "3 2 0.11888051937119126\n",
      "3 3 0.5305698513138797\n"
     ]
    }
   ],
   "source": [
    "for i in range(4):\n",
    "    for j in range(4):\n",
    "        print(i,j,groundMap.map[i][j].friction_coefficient)"
   ]
  },
  {
   "cell_type": "code",
   "execution_count": 113,
   "metadata": {},
   "outputs": [],
   "source": [
    "friction_coeff_matrix = np.array([[groundMap.map[i][j].friction_coefficient for j in range(4)] for i in range(4)])"
   ]
  },
  {
   "cell_type": "code",
   "execution_count": 120,
   "metadata": {},
   "outputs": [
    {
     "data": {
      "image/png": "[encoded data removed]",
      "text/plain": [
       "<Figure size 640x480 with 2 Axes>"
      ]
     },
     "metadata": {},
     "output_type": "display_data"
    }
   ],
   "source": [
    "plt.imshow(friction_coeff_matrix, vmin=0, vmax=1)\n",
    "plt.colorbar()\n",
    "plt.show()"
   ]
  },
  {
   "cell_type": "code",
   "execution_count": 110,
   "metadata": {},
   "outputs": [
    {
     "data": {
      "text/plain": [
       "(3, 3)"
      ]
     },
     "execution_count": 110,
     "metadata": {},
     "output_type": "execute_result"
    }
   ],
   "source": [
    "groundMap.coords_to_index(2, -2)"
   ]
  },
  {
   "cell_type": "code",
   "execution_count": 108,
   "metadata": {},
   "outputs": [
    {
     "data": {
      "text/plain": [
       "0.10227385134294398"
      ]
     },
     "execution_count": 108,
     "metadata": {},
     "output_type": "execute_result"
    }
   ],
   "source": [
    "groundMap.get_ground(-2,2).friction_coefficient"
   ]
  },
  {
   "cell_type": "code",
   "execution_count": null,
   "metadata": {},
   "outputs": [],
   "source": []
  }
 ],
 "metadata": {
  "kernelspec": {
   "display_name": "locosim",
   "language": "python",
   "name": "python3"
  },
  "language_info": {
   "codemirror_mode": {
    "name": "ipython",
    "version": 3
   },
   "file_extension": ".py",
   "mimetype": "text/x-python",
   "name": "python",
   "nbconvert_exporter": "python",
   "pygments_lexer": "ipython3",
   "version": "3.11.9"
  }
 },
 "nbformat": 4,
 "nbformat_minor": 2
}
