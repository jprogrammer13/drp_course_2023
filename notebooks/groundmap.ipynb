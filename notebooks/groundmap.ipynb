{
 "cells": [
  {
   "cell_type": "code",
   "execution_count": 2,
   "metadata": {},
   "outputs": [],
   "source": [
    "import numpy as np\n",
    "import matplotlib.pyplot as plt"
   ]
  },
  {
   "cell_type": "code",
   "execution_count": 3,
   "metadata": {},
   "outputs": [],
   "source": [
    "class Ground():\n",
    "    def __init__(self,\n",
    "                 cohesion=0.0001040 * 1e6,\n",
    "                 K=0.001,\n",
    "                 shear_resistance_angle=20/180.*2*np.pi,\n",
    "                 mu_t=0.65,\n",
    "                 g=9.81,\n",
    "                 fr=0.6,\n",
    "                 friction_coefficient=0.1):\n",
    "        self.cohesion = cohesion  # [Pa]\n",
    "        self.K = K  # [m]\n",
    "        self.shear_resistance_angle = shear_resistance_angle  # [rad]\n",
    "        self.mu_t = mu_t\n",
    "        self.g = g\n",
    "        self.fr = fr\n",
    "        self.friction_coefficient = friction_coefficient"
   ]
  },
  {
   "cell_type": "code",
   "execution_count": 4,
   "metadata": {},
   "outputs": [],
   "source": [
    "class GroundMap:\n",
    "    def __init__(self, width=4, height=4, size=2) -> None:\n",
    "        self.width = width\n",
    "        self.height = height\n",
    "        self.size = size\n",
    "\n",
    "        np.random.seed(13)\n",
    "\n",
    "        # Initialize the map with Ground objects\n",
    "        self.map = [[Ground(friction_coefficient=0.05+np.random.random()*0.15)\n",
    "                     for _ in range(0, width, size)] for _ in range(0, height, size)]\n",
    "        # self.map = [[Ground(friction_coefficient=0.08)\n",
    "        #              for _ in range(width)] for _ in range(height)]\n",
    "\n",
    "        # Calculate the coordinate range\n",
    "        self.x_min = -width / 2\n",
    "        self.x_max = width / 2\n",
    "        self.y_min = -height / 2\n",
    "        self.y_max = height / 2\n",
    "\n",
    "        self.i_max = (height // size) - 1\n",
    "        self.j_max = (width // size) - 1\n",
    "\n",
    "    def coords_to_index(self, x, y):\n",
    "\n",
    "        # Convert coordinates to indices\n",
    "        grid_x = int(np.clip(x - self.x_min / self.size, 0, self.j_max))\n",
    "        grid_y = int(np.clip(y - self.y_min / self.size, 0, self.i_max))\n",
    "        # grid_y = int(np.clip(self.y_max - y, 0, self.height-1))\n",
    "\n",
    "        return grid_y, grid_x\n",
    "\n",
    "    def get_ground(self, x, y):\n",
    "\n",
    "        grid_y, grid_x = self.coords_to_index(x, y)\n",
    "        return self.map[grid_y][grid_x]"
   ]
  },
  {
   "cell_type": "code",
   "execution_count": 5,
   "metadata": {},
   "outputs": [],
   "source": [
    "groundMap = GroundMap(11,11,3)"
   ]
  },
  {
   "cell_type": "code",
   "execution_count": 6,
   "metadata": {},
   "outputs": [
    {
     "data": {
      "text/plain": [
       "[[<__main__.Ground at 0x7b6c4413d9d0>,\n",
       "  <__main__.Ground at 0x7b6c3cbf1950>,\n",
       "  <__main__.Ground at 0x7b6c44f0bad0>,\n",
       "  <__main__.Ground at 0x7b6c44f0b410>],\n",
       " [<__main__.Ground at 0x7b6c48143750>,\n",
       "  <__main__.Ground at 0x7b6c48141cd0>,\n",
       "  <__main__.Ground at 0x7b6c481429d0>,\n",
       "  <__main__.Ground at 0x7b6c48142450>],\n",
       " [<__main__.Ground at 0x7b6c48142e10>,\n",
       "  <__main__.Ground at 0x7b6c48143e50>,\n",
       "  <__main__.Ground at 0x7b6c48140690>,\n",
       "  <__main__.Ground at 0x7b6c48142d90>],\n",
       " [<__main__.Ground at 0x7b6c48142390>,\n",
       "  <__main__.Ground at 0x7b6c48142650>,\n",
       "  <__main__.Ground at 0x7b6c3cba9ed0>,\n",
       "  <__main__.Ground at 0x7b6c3cbaa450>]]"
      ]
     },
     "execution_count": 6,
     "metadata": {},
     "output_type": "execute_result"
    }
   ],
   "source": [
    "groundMap.map"
   ]
  },
  {
   "cell_type": "code",
   "execution_count": 7,
   "metadata": {},
   "outputs": [
    {
     "name": "stdout",
     "output_type": "stream",
     "text": [
      "0 0 0.16665536158607303\n",
      "0 1 0.08563118300523684\n",
      "0 2 0.17364177989920526\n",
      "1 0 0.19589016708573398\n",
      "1 1 0.11801738711259682\n",
      "1 2 0.1413563694141917\n",
      "2 0 0.14624200171386037\n",
      "2 1 0.15830273442754206\n",
      "2 2 0.0552554786152156\n"
     ]
    }
   ],
   "source": [
    "for i in range(groundMap.i_max+1):\n",
    "    for j in range(groundMap.j_max+1):\n",
    "        print(i,j,groundMap.map[i][j].friction_coefficient)"
   ]
  },
  {
   "cell_type": "code",
   "execution_count": 8,
   "metadata": {},
   "outputs": [
    {
     "data": {
      "text/plain": [
       "(-5.5, 5.5)"
      ]
     },
     "execution_count": 8,
     "metadata": {},
     "output_type": "execute_result"
    }
   ],
   "source": [
    "groundMap.x_min,groundMap.x_max,"
   ]
  },
  {
   "cell_type": "code",
   "execution_count": 9,
   "metadata": {},
   "outputs": [
    {
     "data": {
      "text/plain": [
       "(1, 2)"
      ]
     },
     "execution_count": 9,
     "metadata": {},
     "output_type": "execute_result"
    }
   ],
   "source": [
    "groundMap.coords_to_index(3,0)"
   ]
  },
  {
   "cell_type": "code",
   "execution_count": 10,
   "metadata": {},
   "outputs": [],
   "source": [
    "friction_coeff_matrix = np.array([[groundMap.map[i][j].friction_coefficient for j in range(groundMap.j_max+1)] for i in range(groundMap.i_max+1)])"
   ]
  },
  {
   "cell_type": "code",
   "execution_count": 11,
   "metadata": {},
   "outputs": [
    {
     "data": {
      "image/png": "[encoded data removed]",
      "text/plain": [
       "<Figure size 640x480 with 2 Axes>"
      ]
     },
     "metadata": {},
     "output_type": "display_data"
    }
   ],
   "source": [
    "plt.imshow(friction_coeff_matrix, vmin=0, vmax=1)\n",
    "plt.colorbar()\n",
    "plt.show()"
   ]
  },
  {
   "cell_type": "code",
   "execution_count": 12,
   "metadata": {},
   "outputs": [
    {
     "data": {
      "text/plain": [
       "(2, 2)"
      ]
     },
     "execution_count": 12,
     "metadata": {},
     "output_type": "execute_result"
    }
   ],
   "source": [
    "groundMap.coords_to_index(10, 10)"
   ]
  },
  {
   "cell_type": "code",
   "execution_count": 13,
   "metadata": {},
   "outputs": [
    {
     "data": {
      "text/plain": [
       "0.14624200171386037"
      ]
     },
     "execution_count": 13,
     "metadata": {},
     "output_type": "execute_result"
    }
   ],
   "source": [
    "groundMap.get_ground(-2,2).friction_coefficient"
   ]
  },
  {
   "cell_type": "code",
   "execution_count": null,
   "metadata": {},
   "outputs": [],
   "source": []
  }
 ],
 "metadata": {
  "kernelspec": {
   "display_name": "locosim",
   "language": "python",
   "name": "python3"
  },
  "language_info": {
   "codemirror_mode": {
    "name": "ipython",
    "version": 3
   },
   "file_extension": ".py",
   "mimetype": "text/x-python",
   "name": "python",
   "nbconvert_exporter": "python",
   "pygments_lexer": "ipython3",
   "version": "3.11.7"
  }
 },
 "nbformat": 4,
 "nbformat_minor": 2
}
