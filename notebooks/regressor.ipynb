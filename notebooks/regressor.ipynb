{
 "cells": [
  {
   "cell_type": "code",
   "execution_count": 20,
   "metadata": {},
   "outputs": [],
   "source": [
    "# !pip install PyQt5"
   ]
  },
  {
   "cell_type": "code",
   "execution_count": 15,
   "metadata": {},
   "outputs": [],
   "source": [
    "import pandas as pd\n",
    "import numpy as np\n",
    "import matplotlib.pyplot as plt\n",
    "from scipy.interpolate import griddata\n",
    "%matplotlib tk"
   ]
  },
  {
   "cell_type": "code",
   "execution_count": 59,
   "metadata": {},
   "outputs": [],
   "source": [
    "# data = \"../data/ident_wheels_real_indoor.csv\"\n",
    "data = \"../data/robot_data.csv\""
   ]
  },
  {
   "cell_type": "code",
   "execution_count": 68,
   "metadata": {},
   "outputs": [],
   "source": [
    "df = pd.read_csv(data,header=None, names=['wheel_l','wheel_r','beta_l','beta_r','alpha'])"
   ]
  },
  {
   "cell_type": "code",
   "execution_count": 61,
   "metadata": {},
   "outputs": [
    {
     "data": {
      "text/html": [
       "<div>\n",
       "<style scoped>\n",
       "    .dataframe tbody tr th:only-of-type {\n",
       "        vertical-align: middle;\n",
       "    }\n",
       "\n",
       "    .dataframe tbody tr th {\n",
       "        vertical-align: top;\n",
       "    }\n",
       "\n",
       "    .dataframe thead th {\n",
       "        text-align: right;\n",
       "    }\n",
       "</style>\n",
       "<table border=\"1\" class=\"dataframe\">\n",
       "  <thead>\n",
       "    <tr style=\"text-align: right;\">\n",
       "      <th></th>\n",
       "      <th>wheel_l</th>\n",
       "      <th>wheel_r</th>\n",
       "      <th>beta_l</th>\n",
       "      <th>beta_r</th>\n",
       "      <th>alpha</th>\n",
       "    </tr>\n",
       "  </thead>\n",
       "  <tbody>\n",
       "    <tr>\n",
       "      <th>0</th>\n",
       "      <td>29.385159</td>\n",
       "      <td>31.633195</td>\n",
       "      <td>2.034744</td>\n",
       "      <td>2.227143</td>\n",
       "      <td>0.000000</td>\n",
       "    </tr>\n",
       "    <tr>\n",
       "      <th>1</th>\n",
       "      <td>29.377002</td>\n",
       "      <td>31.641206</td>\n",
       "      <td>2.034045</td>\n",
       "      <td>2.227829</td>\n",
       "      <td>0.000000</td>\n",
       "    </tr>\n",
       "    <tr>\n",
       "      <th>2</th>\n",
       "      <td>28.230496</td>\n",
       "      <td>30.496953</td>\n",
       "      <td>1.916299</td>\n",
       "      <td>2.110271</td>\n",
       "      <td>0.000000</td>\n",
       "    </tr>\n",
       "    <tr>\n",
       "      <th>3</th>\n",
       "      <td>29.389962</td>\n",
       "      <td>31.633585</td>\n",
       "      <td>2.035155</td>\n",
       "      <td>2.227177</td>\n",
       "      <td>0.000000</td>\n",
       "    </tr>\n",
       "    <tr>\n",
       "      <th>4</th>\n",
       "      <td>28.243462</td>\n",
       "      <td>30.489325</td>\n",
       "      <td>1.917409</td>\n",
       "      <td>2.109618</td>\n",
       "      <td>0.000000</td>\n",
       "    </tr>\n",
       "    <tr>\n",
       "      <th>...</th>\n",
       "      <td>...</td>\n",
       "      <td>...</td>\n",
       "      <td>...</td>\n",
       "      <td>...</td>\n",
       "      <td>...</td>\n",
       "    </tr>\n",
       "    <tr>\n",
       "      <th>395</th>\n",
       "      <td>6.650781</td>\n",
       "      <td>8.332893</td>\n",
       "      <td>-0.008670</td>\n",
       "      <td>0.008720</td>\n",
       "      <td>-0.011558</td>\n",
       "    </tr>\n",
       "    <tr>\n",
       "      <th>396</th>\n",
       "      <td>6.650953</td>\n",
       "      <td>8.333458</td>\n",
       "      <td>-0.008671</td>\n",
       "      <td>0.008721</td>\n",
       "      <td>-0.011557</td>\n",
       "    </tr>\n",
       "    <tr>\n",
       "      <th>397</th>\n",
       "      <td>6.650953</td>\n",
       "      <td>8.333458</td>\n",
       "      <td>-0.008671</td>\n",
       "      <td>0.008721</td>\n",
       "      <td>-0.011557</td>\n",
       "    </tr>\n",
       "    <tr>\n",
       "      <th>398</th>\n",
       "      <td>6.643186</td>\n",
       "      <td>8.341975</td>\n",
       "      <td>-0.008727</td>\n",
       "      <td>0.008787</td>\n",
       "      <td>-0.011699</td>\n",
       "    </tr>\n",
       "    <tr>\n",
       "      <th>399</th>\n",
       "      <td>6.643186</td>\n",
       "      <td>8.341975</td>\n",
       "      <td>-0.008727</td>\n",
       "      <td>0.008787</td>\n",
       "      <td>-0.011699</td>\n",
       "    </tr>\n",
       "  </tbody>\n",
       "</table>\n",
       "<p>400 rows × 5 columns</p>\n",
       "</div>"
      ],
      "text/plain": [
       "       wheel_l    wheel_r    beta_l    beta_r     alpha\n",
       "0    29.385159  31.633195  2.034744  2.227143  0.000000\n",
       "1    29.377002  31.641206  2.034045  2.227829  0.000000\n",
       "2    28.230496  30.496953  1.916299  2.110271  0.000000\n",
       "3    29.389962  31.633585  2.035155  2.227177  0.000000\n",
       "4    28.243462  30.489325  1.917409  2.109618  0.000000\n",
       "..         ...        ...       ...       ...       ...\n",
       "395   6.650781   8.332893 -0.008670  0.008720 -0.011558\n",
       "396   6.650953   8.333458 -0.008671  0.008721 -0.011557\n",
       "397   6.650953   8.333458 -0.008671  0.008721 -0.011557\n",
       "398   6.643186   8.341975 -0.008727  0.008787 -0.011699\n",
       "399   6.643186   8.341975 -0.008727  0.008787 -0.011699\n",
       "\n",
       "[400 rows x 5 columns]"
      ]
     },
     "execution_count": 61,
     "metadata": {},
     "output_type": "execute_result"
    }
   ],
   "source": [
    "df"
   ]
  },
  {
   "cell_type": "code",
   "execution_count": 69,
   "metadata": {},
   "outputs": [],
   "source": [
    "x = df[['wheel_l','wheel_r']].values\n",
    "y = df[['beta_l','beta_r','alpha']].values"
   ]
  },
  {
   "cell_type": "code",
   "execution_count": 70,
   "metadata": {},
   "outputs": [],
   "source": [
    "fig, ax = plt.subplots(1, 5, figsize=(20, 4))\n",
    "ax[0].hist(x[..., 0])\n",
    "ax[0].set_title('wheel_l')\n",
    "ax[1].hist(x[..., 1])\n",
    "ax[1].set_title('wheel_r')\n",
    "# %% plot histogram to see if output distribution is well behaved, to see if it is neeeded a scaling\n",
    "ax[2].hist(y[..., 0])\n",
    "ax[2].set_title('beta_l')\n",
    "ax[3].hist(y[..., 1])\n",
    "ax[3].set_title('beta_r')\n",
    "ax[4].hist(y[..., 2])\n",
    "ax[4].set_title('alpha')\n",
    "plt.show()"
   ]
  },
  {
   "cell_type": "code",
   "execution_count": 64,
   "metadata": {},
   "outputs": [],
   "source": [
    "fig = plt.figure(figsize=(10, 10))\n",
    "ax = plt.axes(projection='3d')\n",
    "ax.set_xlim(-20,20)\n",
    "ax.set_ylim(-20,20)\n",
    "ax.plot([-20,20],[-20,20],[0,0], \"--\", color=\"red\")\n",
    "ax.scatter(x[..., 0], x[..., 1], y[..., 0], color='blue')\n",
    "ax.set_title('beta_l')\n",
    "ax.set_xlabel('wheel_l')\n",
    "ax.set_ylabel('wheel_r')\n",
    "plt.show()"
   ]
  },
  {
   "cell_type": "code",
   "execution_count": 65,
   "metadata": {},
   "outputs": [],
   "source": [
    "fig = plt.figure(figsize=(10, 10))\n",
    "ax = plt.axes(projection='3d')\n",
    "ax.set_xlim(-20,20)\n",
    "ax.set_ylim(-20,20)\n",
    "ax.plot([-20,20],[-20,20],[0,0], \"--\", color=\"red\")\n",
    "ax.scatter(x[..., 0], x[..., 1], y[..., 1], color='blue')\n",
    "ax.set_title('beta_r')\n",
    "ax.set_xlabel('wheel_l')\n",
    "ax.set_ylabel('wheel_r')\n",
    "plt.show()"
   ]
  },
  {
   "cell_type": "code",
   "execution_count": 66,
   "metadata": {},
   "outputs": [],
   "source": [
    "fig = plt.figure(figsize=(10, 10))\n",
    "ax = plt.axes(projection='3d')\n",
    "ax.set_xlim(-20,20)\n",
    "ax.set_ylim(-20,20)\n",
    "ax.plot([-20,20],[-20,20],[0,0], \"--\", color=\"red\")\n",
    "ax.scatter(x[..., 0], x[..., 1], y[..., 2], color='blue')\n",
    "ax.set_title('alpha')\n",
    "ax.set_xlabel('wheel_l')\n",
    "ax.set_ylabel('wheel_r')\n",
    "plt.show()"
   ]
  },
  {
   "cell_type": "code",
   "execution_count": null,
   "metadata": {},
   "outputs": [],
   "source": []
  }
 ],
 "metadata": {
  "kernelspec": {
   "display_name": "locosim",
   "language": "python",
   "name": "python3"
  },
  "language_info": {
   "codemirror_mode": {
    "name": "ipython",
    "version": 3
   },
   "file_extension": ".py",
   "mimetype": "text/x-python",
   "name": "python",
   "nbconvert_exporter": "python",
   "pygments_lexer": "ipython3",
   "version": "3.11.9"
  }
 },
 "nbformat": 4,
 "nbformat_minor": 2
}
