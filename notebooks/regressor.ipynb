{
 "cells": [
  {
   "cell_type": "code",
   "execution_count": 20,
   "metadata": {},
   "outputs": [],
   "source": [
    "# !pip install PyQt5"
   ]
  },
  {
   "cell_type": "code",
   "execution_count": 1,
   "metadata": {},
   "outputs": [],
   "source": [
    "import pandas as pd\n",
    "import numpy as np\n",
    "import matplotlib.pyplot as plt\n",
    "from scipy.interpolate import griddata\n",
    "%matplotlib tk"
   ]
  },
  {
   "cell_type": "code",
   "execution_count": 2,
   "metadata": {},
   "outputs": [],
   "source": [
    "# data = \"../data/ident_wheels_real_indoor.csv\"\n",
    "data = \"../data/robot_data.csv\""
   ]
  },
  {
   "cell_type": "code",
   "execution_count": 3,
   "metadata": {},
   "outputs": [],
   "source": [
    "df = pd.read_csv(data,header=None, names=['wheel_l','wheel_r','beta_l','beta_r','alpha'])"
   ]
  },
  {
   "cell_type": "code",
   "execution_count": 4,
   "metadata": {},
   "outputs": [
    {
     "data": {
      "text/html": [
       "<div>\n",
       "<style scoped>\n",
       "    .dataframe tbody tr th:only-of-type {\n",
       "        vertical-align: middle;\n",
       "    }\n",
       "\n",
       "    .dataframe tbody tr th {\n",
       "        vertical-align: top;\n",
       "    }\n",
       "\n",
       "    .dataframe thead th {\n",
       "        text-align: right;\n",
       "    }\n",
       "</style>\n",
       "<table border=\"1\" class=\"dataframe\">\n",
       "  <thead>\n",
       "    <tr style=\"text-align: right;\">\n",
       "      <th></th>\n",
       "      <th>wheel_l</th>\n",
       "      <th>wheel_r</th>\n",
       "      <th>beta_l</th>\n",
       "      <th>beta_r</th>\n",
       "      <th>alpha</th>\n",
       "    </tr>\n",
       "  </thead>\n",
       "  <tbody>\n",
       "    <tr>\n",
       "      <th>0</th>\n",
       "      <td>6.839234</td>\n",
       "      <td>8.288998</td>\n",
       "      <td>0.106871</td>\n",
       "      <td>0.230047</td>\n",
       "      <td>0.0</td>\n",
       "    </tr>\n",
       "    <tr>\n",
       "      <th>1</th>\n",
       "      <td>6.644440</td>\n",
       "      <td>8.105266</td>\n",
       "      <td>0.080606</td>\n",
       "      <td>0.204584</td>\n",
       "      <td>0.0</td>\n",
       "    </tr>\n",
       "    <tr>\n",
       "      <th>2</th>\n",
       "      <td>6.439002</td>\n",
       "      <td>7.910899</td>\n",
       "      <td>0.053530</td>\n",
       "      <td>0.178219</td>\n",
       "      <td>0.0</td>\n",
       "    </tr>\n",
       "    <tr>\n",
       "      <th>3</th>\n",
       "      <td>6.222991</td>\n",
       "      <td>7.705958</td>\n",
       "      <td>0.025814</td>\n",
       "      <td>0.150953</td>\n",
       "      <td>0.0</td>\n",
       "    </tr>\n",
       "    <tr>\n",
       "      <th>4</th>\n",
       "      <td>5.996581</td>\n",
       "      <td>7.490587</td>\n",
       "      <td>-0.000232</td>\n",
       "      <td>0.122642</td>\n",
       "      <td>0.0</td>\n",
       "    </tr>\n",
       "    <tr>\n",
       "      <th>...</th>\n",
       "      <td>...</td>\n",
       "      <td>...</td>\n",
       "      <td>...</td>\n",
       "      <td>...</td>\n",
       "      <td>...</td>\n",
       "    </tr>\n",
       "    <tr>\n",
       "      <th>9336</th>\n",
       "      <td>7.374367</td>\n",
       "      <td>7.313564</td>\n",
       "      <td>0.003218</td>\n",
       "      <td>-0.002857</td>\n",
       "      <td>0.0</td>\n",
       "    </tr>\n",
       "    <tr>\n",
       "      <th>9337</th>\n",
       "      <td>7.349913</td>\n",
       "      <td>7.291176</td>\n",
       "      <td>-0.002376</td>\n",
       "      <td>0.002650</td>\n",
       "      <td>0.0</td>\n",
       "    </tr>\n",
       "    <tr>\n",
       "      <th>9338</th>\n",
       "      <td>7.325193</td>\n",
       "      <td>7.269790</td>\n",
       "      <td>0.003199</td>\n",
       "      <td>-0.002841</td>\n",
       "      <td>0.0</td>\n",
       "    </tr>\n",
       "    <tr>\n",
       "      <th>9339</th>\n",
       "      <td>7.300822</td>\n",
       "      <td>7.247504</td>\n",
       "      <td>-0.002351</td>\n",
       "      <td>0.002706</td>\n",
       "      <td>0.0</td>\n",
       "    </tr>\n",
       "    <tr>\n",
       "      <th>9340</th>\n",
       "      <td>7.276237</td>\n",
       "      <td>7.226269</td>\n",
       "      <td>0.003188</td>\n",
       "      <td>-0.002819</td>\n",
       "      <td>0.0</td>\n",
       "    </tr>\n",
       "  </tbody>\n",
       "</table>\n",
       "<p>9341 rows × 5 columns</p>\n",
       "</div>"
      ],
      "text/plain": [
       "       wheel_l   wheel_r    beta_l    beta_r  alpha\n",
       "0     6.839234  8.288998  0.106871  0.230047    0.0\n",
       "1     6.644440  8.105266  0.080606  0.204584    0.0\n",
       "2     6.439002  7.910899  0.053530  0.178219    0.0\n",
       "3     6.222991  7.705958  0.025814  0.150953    0.0\n",
       "4     5.996581  7.490587 -0.000232  0.122642    0.0\n",
       "...        ...       ...       ...       ...    ...\n",
       "9336  7.374367  7.313564  0.003218 -0.002857    0.0\n",
       "9337  7.349913  7.291176 -0.002376  0.002650    0.0\n",
       "9338  7.325193  7.269790  0.003199 -0.002841    0.0\n",
       "9339  7.300822  7.247504 -0.002351  0.002706    0.0\n",
       "9340  7.276237  7.226269  0.003188 -0.002819    0.0\n",
       "\n",
       "[9341 rows x 5 columns]"
      ]
     },
     "execution_count": 4,
     "metadata": {},
     "output_type": "execute_result"
    }
   ],
   "source": [
    "df"
   ]
  },
  {
   "cell_type": "code",
   "execution_count": 5,
   "metadata": {},
   "outputs": [],
   "source": [
    "x = df[['wheel_l','wheel_r']].values\n",
    "y = df[['beta_l','beta_r','alpha']].values"
   ]
  },
  {
   "cell_type": "code",
   "execution_count": 7,
   "metadata": {},
   "outputs": [],
   "source": [
    "fig, ax = plt.subplots(1, 5, figsize=(20, 4))\n",
    "ax[0].hist(x[..., 0])\n",
    "ax[0].set_title('wheel_l')\n",
    "ax[1].hist(x[..., 1], bins=np.arange(-160, 121, 40))\n",
    "ax[1].set_title('wheel_r')\n",
    "# %% plot histogram to see if output distribution is well behaved, to see if it is neeeded a scaling\n",
    "ax[2].hist(y[..., 0])\n",
    "ax[2].set_title('beta_l')\n",
    "ax[3].hist(y[..., 1])\n",
    "ax[3].set_title('beta_r')\n",
    "ax[4].hist(y[..., 2])\n",
    "ax[4].set_title('alpha')\n",
    "plt.show()"
   ]
  },
  {
   "cell_type": "code",
   "execution_count": 8,
   "metadata": {},
   "outputs": [],
   "source": [
    "fig = plt.figure(figsize=(10, 10))\n",
    "ax = plt.axes(projection='3d')\n",
    "ax.scatter(x[..., 0], x[..., 1], y[..., 0], color='blue')\n",
    "ax.set_title('beta_l')\n",
    "ax.set_xlabel('wheel_l')\n",
    "ax.set_ylabel('wheel_r')\n",
    "plt.show()"
   ]
  },
  {
   "cell_type": "code",
   "execution_count": 46,
   "metadata": {},
   "outputs": [],
   "source": [
    "fig = plt.figure(figsize=(10, 10))\n",
    "ax = plt.axes(projection='3d')\n",
    "ax.scatter(x[..., 0], x[..., 1], y[..., 1], color='blue')\n",
    "ax.set_title('beta_r')\n",
    "ax.set_xlabel('wheel_l')\n",
    "ax.set_ylabel('wheel_r')\n",
    "plt.show()"
   ]
  },
  {
   "cell_type": "code",
   "execution_count": 47,
   "metadata": {},
   "outputs": [],
   "source": [
    "fig = plt.figure(figsize=(10, 10))\n",
    "ax = plt.axes(projection='3d')\n",
    "ax.scatter(x[..., 0], x[..., 1], y[..., 2], color='blue')\n",
    "ax.set_title('alpha')\n",
    "ax.set_xlabel('wheel_l')\n",
    "ax.set_ylabel('wheel_r')\n",
    "plt.show()"
   ]
  }
 ],
 "metadata": {
  "kernelspec": {
   "display_name": "locosim",
   "language": "python",
   "name": "python3"
  },
  "language_info": {
   "codemirror_mode": {
    "name": "ipython",
    "version": 3
   },
   "file_extension": ".py",
   "mimetype": "text/x-python",
   "name": "python",
   "nbconvert_exporter": "python",
   "pygments_lexer": "ipython3",
   "version": "3.10.14"
  }
 },
 "nbformat": 4,
 "nbformat_minor": 2
}
