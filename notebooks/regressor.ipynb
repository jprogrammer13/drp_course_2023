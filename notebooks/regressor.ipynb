{
 "cells": [
  {
   "cell_type": "code",
   "execution_count": 20,
   "metadata": {},
   "outputs": [],
   "source": [
    "# !pip install PyQt5"
   ]
  },
  {
   "cell_type": "code",
   "execution_count": 15,
   "metadata": {},
   "outputs": [],
   "source": [
    "import pandas as pd\n",
    "import numpy as np\n",
    "import matplotlib.pyplot as plt\n",
    "from scipy.interpolate import griddata\n",
    "%matplotlib tk"
   ]
  },
  {
   "cell_type": "code",
   "execution_count": 16,
   "metadata": {},
   "outputs": [],
   "source": [
    "# data = \"../data/ident_wheels_real_indoor.csv\"\n",
    "data = \"../data/robot_data.csv\""
   ]
  },
  {
   "cell_type": "code",
   "execution_count": 17,
   "metadata": {},
   "outputs": [],
   "source": [
    "df = pd.read_csv(data,header=None, names=['wheel_l','wheel_r','beta_l','beta_r','alpha'])"
   ]
  },
  {
   "cell_type": "code",
   "execution_count": 18,
   "metadata": {},
   "outputs": [
    {
     "data": {
      "text/html": [
       "<div>\n",
       "<style scoped>\n",
       "    .dataframe tbody tr th:only-of-type {\n",
       "        vertical-align: middle;\n",
       "    }\n",
       "\n",
       "    .dataframe tbody tr th {\n",
       "        vertical-align: top;\n",
       "    }\n",
       "\n",
       "    .dataframe thead th {\n",
       "        text-align: right;\n",
       "    }\n",
       "</style>\n",
       "<table border=\"1\" class=\"dataframe\">\n",
       "  <thead>\n",
       "    <tr style=\"text-align: right;\">\n",
       "      <th></th>\n",
       "      <th>wheel_l</th>\n",
       "      <th>wheel_r</th>\n",
       "      <th>beta_l</th>\n",
       "      <th>beta_r</th>\n",
       "      <th>alpha</th>\n",
       "    </tr>\n",
       "  </thead>\n",
       "  <tbody>\n",
       "    <tr>\n",
       "      <th>0</th>\n",
       "      <td>4.312703</td>\n",
       "      <td>6.295058</td>\n",
       "      <td>-0.014356</td>\n",
       "      <td>0.009379</td>\n",
       "      <td>-0.004537</td>\n",
       "    </tr>\n",
       "    <tr>\n",
       "      <th>1</th>\n",
       "      <td>4.663061</td>\n",
       "      <td>6.659230</td>\n",
       "      <td>0.026909</td>\n",
       "      <td>-0.049924</td>\n",
       "      <td>-0.002972</td>\n",
       "    </tr>\n",
       "    <tr>\n",
       "      <th>2</th>\n",
       "      <td>4.094300</td>\n",
       "      <td>5.931407</td>\n",
       "      <td>-0.010089</td>\n",
       "      <td>0.009567</td>\n",
       "      <td>-0.003942</td>\n",
       "    </tr>\n",
       "    <tr>\n",
       "      <th>3</th>\n",
       "      <td>4.078347</td>\n",
       "      <td>5.769121</td>\n",
       "      <td>-0.054778</td>\n",
       "      <td>0.054749</td>\n",
       "      <td>0.000000</td>\n",
       "    </tr>\n",
       "    <tr>\n",
       "      <th>4</th>\n",
       "      <td>16.767104</td>\n",
       "      <td>18.998838</td>\n",
       "      <td>1.115616</td>\n",
       "      <td>1.306535</td>\n",
       "      <td>0.000000</td>\n",
       "    </tr>\n",
       "    <tr>\n",
       "      <th>...</th>\n",
       "      <td>...</td>\n",
       "      <td>...</td>\n",
       "      <td>...</td>\n",
       "      <td>...</td>\n",
       "      <td>...</td>\n",
       "    </tr>\n",
       "    <tr>\n",
       "      <th>560</th>\n",
       "      <td>4.190799</td>\n",
       "      <td>6.126076</td>\n",
       "      <td>0.034440</td>\n",
       "      <td>-0.038706</td>\n",
       "      <td>-0.003766</td>\n",
       "    </tr>\n",
       "    <tr>\n",
       "      <th>561</th>\n",
       "      <td>4.379671</td>\n",
       "      <td>6.356408</td>\n",
       "      <td>-0.007144</td>\n",
       "      <td>0.011745</td>\n",
       "      <td>-0.081767</td>\n",
       "    </tr>\n",
       "    <tr>\n",
       "      <th>562</th>\n",
       "      <td>4.314876</td>\n",
       "      <td>6.061596</td>\n",
       "      <td>0.027653</td>\n",
       "      <td>-0.032038</td>\n",
       "      <td>-0.003230</td>\n",
       "    </tr>\n",
       "    <tr>\n",
       "      <th>563</th>\n",
       "      <td>4.316506</td>\n",
       "      <td>6.166132</td>\n",
       "      <td>-0.009791</td>\n",
       "      <td>0.009813</td>\n",
       "      <td>-0.003934</td>\n",
       "    </tr>\n",
       "    <tr>\n",
       "      <th>564</th>\n",
       "      <td>4.356643</td>\n",
       "      <td>6.241000</td>\n",
       "      <td>-0.074796</td>\n",
       "      <td>0.074861</td>\n",
       "      <td>0.000000</td>\n",
       "    </tr>\n",
       "  </tbody>\n",
       "</table>\n",
       "<p>565 rows × 5 columns</p>\n",
       "</div>"
      ],
      "text/plain": [
       "       wheel_l    wheel_r    beta_l    beta_r     alpha\n",
       "0     4.312703   6.295058 -0.014356  0.009379 -0.004537\n",
       "1     4.663061   6.659230  0.026909 -0.049924 -0.002972\n",
       "2     4.094300   5.931407 -0.010089  0.009567 -0.003942\n",
       "3     4.078347   5.769121 -0.054778  0.054749  0.000000\n",
       "4    16.767104  18.998838  1.115616  1.306535  0.000000\n",
       "..         ...        ...       ...       ...       ...\n",
       "560   4.190799   6.126076  0.034440 -0.038706 -0.003766\n",
       "561   4.379671   6.356408 -0.007144  0.011745 -0.081767\n",
       "562   4.314876   6.061596  0.027653 -0.032038 -0.003230\n",
       "563   4.316506   6.166132 -0.009791  0.009813 -0.003934\n",
       "564   4.356643   6.241000 -0.074796  0.074861  0.000000\n",
       "\n",
       "[565 rows x 5 columns]"
      ]
     },
     "execution_count": 18,
     "metadata": {},
     "output_type": "execute_result"
    }
   ],
   "source": [
    "df"
   ]
  },
  {
   "cell_type": "code",
   "execution_count": 19,
   "metadata": {},
   "outputs": [],
   "source": [
    "x = df[['wheel_l','wheel_r']].values\n",
    "y = df[['beta_l','beta_r','alpha']].values"
   ]
  },
  {
   "cell_type": "code",
   "execution_count": 20,
   "metadata": {},
   "outputs": [],
   "source": [
    "fig, ax = plt.subplots(1, 5, figsize=(20, 4))\n",
    "ax[0].hist(x[..., 0])\n",
    "ax[0].set_title('wheel_l')\n",
    "ax[1].hist(x[..., 1])\n",
    "ax[1].set_title('wheel_r')\n",
    "# %% plot histogram to see if output distribution is well behaved, to see if it is neeeded a scaling\n",
    "ax[2].hist(y[..., 0])\n",
    "ax[2].set_title('beta_l')\n",
    "ax[3].hist(y[..., 1])\n",
    "ax[3].set_title('beta_r')\n",
    "ax[4].hist(y[..., 2])\n",
    "ax[4].set_title('alpha')\n",
    "plt.show()"
   ]
  },
  {
   "cell_type": "code",
   "execution_count": 21,
   "metadata": {},
   "outputs": [],
   "source": [
    "fig = plt.figure(figsize=(10, 10))\n",
    "ax = plt.axes(projection='3d')\n",
    "ax.set_xlim(-20,20)\n",
    "ax.set_ylim(-20,20)\n",
    "ax.plot([-20,20],[-20,20],[0,0], \"--\", color=\"red\")\n",
    "ax.scatter(x[..., 0], x[..., 1], y[..., 0], color='blue')\n",
    "ax.set_title('beta_l')\n",
    "ax.set_xlabel('wheel_l')\n",
    "ax.set_ylabel('wheel_r')\n",
    "plt.show()"
   ]
  },
  {
   "cell_type": "code",
   "execution_count": 22,
   "metadata": {},
   "outputs": [],
   "source": [
    "fig = plt.figure(figsize=(10, 10))\n",
    "ax = plt.axes(projection='3d')\n",
    "ax.set_xlim(-20,20)\n",
    "ax.set_ylim(-20,20)\n",
    "ax.plot([-20,20],[-20,20],[0,0], \"--\", color=\"red\")\n",
    "ax.scatter(x[..., 0], x[..., 1], y[..., 1], color='blue')\n",
    "ax.set_title('beta_r')\n",
    "ax.set_xlabel('wheel_l')\n",
    "ax.set_ylabel('wheel_r')\n",
    "plt.show()"
   ]
  },
  {
   "cell_type": "code",
   "execution_count": 23,
   "metadata": {},
   "outputs": [],
   "source": [
    "fig = plt.figure(figsize=(10, 10))\n",
    "ax = plt.axes(projection='3d')\n",
    "ax.set_xlim(-20,20)\n",
    "ax.set_ylim(-20,20)\n",
    "ax.plot([-20,20],[-20,20],[0,0], \"--\", color=\"red\")\n",
    "ax.scatter(x[..., 0], x[..., 1], y[..., 2], color='blue')\n",
    "ax.set_title('alpha')\n",
    "ax.set_xlabel('wheel_l')\n",
    "ax.set_ylabel('wheel_r')\n",
    "plt.show()"
   ]
  },
  {
   "cell_type": "code",
   "execution_count": null,
   "metadata": {},
   "outputs": [],
   "source": []
  }
 ],
 "metadata": {
  "kernelspec": {
   "display_name": "locosim",
   "language": "python",
   "name": "python3"
  },
  "language_info": {
   "codemirror_mode": {
    "name": "ipython",
    "version": 3
   },
   "file_extension": ".py",
   "mimetype": "text/x-python",
   "name": "python",
   "nbconvert_exporter": "python",
   "pygments_lexer": "ipython3",
   "version": "3.11.9"
  }
 },
 "nbformat": 4,
 "nbformat_minor": 2
}
